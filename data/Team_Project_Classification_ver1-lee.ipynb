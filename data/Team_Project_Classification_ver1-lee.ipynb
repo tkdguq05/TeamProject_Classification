{
 "cells": [
  {
   "cell_type": "markdown",
   "metadata": {},
   "source": [
    "# Classification"
   ]
  },
  {
   "cell_type": "markdown",
   "metadata": {},
   "source": [
    "## Team Name\n",
    ">### Sigma  \n",
    "\n",
    "## Team Member\n",
    ">### 조현윤, 이상협, 정하연  \n",
    "\n",
    "## Objective\n",
    "> ### in search of better methods of using this behavioral data to predict which individuals they should approach—and even when and how to approach them.\n",
    "> ### to create a classification algorithm that accurately identifies which customers have the most potential business value for Red Hat based on their characteristics and activities.\n",
    "> ### to predict the potential business value of a person who has performed a specific activity.\n",
    "\n",
    "## Evaluation\n",
    "> ### valuated on area under the ROC curve between the predicted and the observed outcome.\n",
    "\n",
    "## Submission File\n",
    "> ### For each activity_id in the test set, you must predict a probability for the 'outcome' variable, represented by a number between 0 and 1.\n",
    "~~~~\n",
    "activity_id,outcome\n",
    "act1_1,0\n",
    "act1_100006,0\n",
    "act1_100050,0\n",
    "~~~~\n",
    "\n",
    "## Data\n",
    "> ### uses two separate data files that may be joined together to create a single, unified data table: a people file and an activity file.\n",
    "> ### The people file contains all of the unique people (and the corresponding characteristics) that have performed activities over time. Each row in the people file represents a unique person. Each person has a unique people_id.\n",
    "> ### The activity file contains all of the unique activities (and the corresponding activity characteristics) that each person has performed over time. Each row in the activity file represents a unique activity performed by a person on a certain date. Each activity has a unique activity_id.\n",
    "> ### The activity file contains several different categories of activities. \n",
    ">> Type 1 activities are different from type 2-7 activities because there are more known characteristics associated with type 1 activities (nine in total) than type 2-7 activities (which have only one associated characteristic).\n",
    "> ### To develop a predictive model with this data, you will likely need to join the files together into a single data set. The two files can be joined together using person_id as the common key. All variables are categorical, with the exception of 'char_38' in the people file, which is a continuous numerical variable.\n",
    "\n",
    "## Reference \n",
    "[kaggel Predicting Red Hat Business Value](https://www.kaggle.com/c/predicting-red-hat-business-value)"
   ]
  },
  {
   "cell_type": "markdown",
   "metadata": {},
   "source": [
    "### Load Python Package"
   ]
  },
  {
   "cell_type": "code",
   "execution_count": 1,
   "metadata": {},
   "outputs": [
    {
     "name": "stderr",
     "output_type": "stream",
     "text": [
      "/Users/sanghyub/anaconda/lib/python3.6/site-packages/statsmodels/compat/pandas.py:56: FutureWarning: The pandas.core.datetools module is deprecated and will be removed in a future version. Please use the pandas.tseries module instead.\n",
      "  from pandas.core import datetools\n"
     ]
    }
   ],
   "source": [
    "import pandas as pd\n",
    "import numpy as np\n",
    "import matplotlib.pyplot as plt\n",
    "import matplotlib\n",
    "from datetime import datetime\n",
    "from datetime import date\n",
    "import seaborn as sns\n",
    "import statsmodels.api as sm\n",
    "import statsmodels.stats.api as sms\n",
    "import statsmodels.stats.stattools as stools\n",
    "import scipy as sp\n",
    "%matplotlib inline"
   ]
  },
  {
   "cell_type": "code",
   "execution_count": 2,
   "metadata": {},
   "outputs": [
    {
     "data": {
      "text/plain": [
       "'0.21.0'"
      ]
     },
     "execution_count": 2,
     "metadata": {},
     "output_type": "execute_result"
    }
   ],
   "source": [
    "pd.__version__"
   ]
  },
  {
   "cell_type": "markdown",
   "metadata": {},
   "source": [
    "## Exploratory Data Analysis (EDA )¶"
   ]
  },
  {
   "cell_type": "markdown",
   "metadata": {},
   "source": [
    "## Load Data Set"
   ]
  },
  {
   "cell_type": "code",
   "execution_count": 3,
   "metadata": {},
   "outputs": [],
   "source": [
    "# activity data set\n",
    "act_Train = pd.read_csv('./data/act_train.csv')\n",
    "act_Test = pd.read_csv('./data/act_test.csv')\n",
    "# people data set\n",
    "people = pd.read_csv('./data/people.csv')"
   ]
  },
  {
   "cell_type": "code",
   "execution_count": null,
   "metadata": {
    "collapsed": true
   },
   "outputs": [],
   "source": []
  },
  {
   "cell_type": "code",
   "execution_count": 4,
   "metadata": {},
   "outputs": [],
   "source": [
    "def preprocess_acts(data, train_set=True):\n",
    "\n",
    "    # Getting rid of data feature for now\n",
    "\n",
    "    data.date = pd.to_datetime(data.date)\n",
    "\n",
    "\n",
    "    # Add features from date\n",
    "    data[\"year\"] = data.date.apply(lambda x: x.year)\n",
    "    data[\"month\"] = data.date.apply(lambda x: x.month)\n",
    "    data[\"day\"] = data.date.apply(lambda x: x.day)\n",
    "    data = data.drop([\"date\"], axis = 1)\n",
    "    return data\n",
    "\n",
    "def preprocess_people(data):\n",
    "\n",
    "\n",
    "\n",
    "    data.date = pd.to_datetime(data.date)\n",
    "    #  Values in the people df is Booleans and Strings\n",
    "    columns = list(data.columns)\n",
    "    columns.remove(\"date\")\n",
    "    bools = columns[11:]\n",
    "    strings = columns[1:11]\n",
    "\n",
    "    for col in bools:\n",
    "        data[col] = pd.to_numeric(data[col]).astype(int)\n",
    "\n",
    "\n",
    "    # Add features from date\n",
    "    data[\"year_p\"] = data.date.apply(lambda x: x.year)\n",
    "    data[\"month_p\"] = data.date.apply(lambda x: x.month)\n",
    "    data[\"day_p\"] = data.date.apply(lambda x: x.day)\n",
    "\n",
    "\n",
    "    data = data.drop(['date'], axis=1)\n",
    "    return data"
   ]
  },
  {
   "cell_type": "code",
   "execution_count": 5,
   "metadata": {
    "collapsed": true,
    "scrolled": true
   },
   "outputs": [],
   "source": [
    "action_people = preprocess_people(people)\n",
    "actions_train = preprocess_acts(act_Train)\n",
    "actions_test = preprocess_acts(act_Test, train_set=False)"
   ]
  },
  {
   "cell_type": "code",
   "execution_count": 109,
   "metadata": {
    "scrolled": true
   },
   "outputs": [
    {
     "data": {
      "text/html": [
       "<div>\n",
       "<style>\n",
       "    .dataframe thead tr:only-child th {\n",
       "        text-align: right;\n",
       "    }\n",
       "\n",
       "    .dataframe thead th {\n",
       "        text-align: left;\n",
       "    }\n",
       "\n",
       "    .dataframe tbody tr th {\n",
       "        vertical-align: top;\n",
       "    }\n",
       "</style>\n",
       "<table border=\"1\" class=\"dataframe\">\n",
       "  <thead>\n",
       "    <tr style=\"text-align: right;\">\n",
       "      <th></th>\n",
       "      <th>people_id</th>\n",
       "      <th>char_1</th>\n",
       "      <th>group_1</th>\n",
       "      <th>char_2</th>\n",
       "      <th>date</th>\n",
       "      <th>char_3</th>\n",
       "      <th>char_4</th>\n",
       "      <th>char_5</th>\n",
       "      <th>char_6</th>\n",
       "      <th>char_7</th>\n",
       "      <th>...</th>\n",
       "      <th>char_32</th>\n",
       "      <th>char_33</th>\n",
       "      <th>char_34</th>\n",
       "      <th>char_35</th>\n",
       "      <th>char_36</th>\n",
       "      <th>char_37</th>\n",
       "      <th>char_38</th>\n",
       "      <th>year_p</th>\n",
       "      <th>month_p</th>\n",
       "      <th>day_p</th>\n",
       "    </tr>\n",
       "  </thead>\n",
       "  <tbody>\n",
       "    <tr>\n",
       "      <th>0</th>\n",
       "      <td>ppl_100</td>\n",
       "      <td>type 2</td>\n",
       "      <td>group 17304</td>\n",
       "      <td>type 2</td>\n",
       "      <td>2021-06-29</td>\n",
       "      <td>type 5</td>\n",
       "      <td>type 5</td>\n",
       "      <td>type 5</td>\n",
       "      <td>type 3</td>\n",
       "      <td>type 11</td>\n",
       "      <td>...</td>\n",
       "      <td>0</td>\n",
       "      <td>0</td>\n",
       "      <td>1</td>\n",
       "      <td>1</td>\n",
       "      <td>1</td>\n",
       "      <td>0</td>\n",
       "      <td>36</td>\n",
       "      <td>2021</td>\n",
       "      <td>6</td>\n",
       "      <td>29</td>\n",
       "    </tr>\n",
       "    <tr>\n",
       "      <th>1</th>\n",
       "      <td>ppl_100002</td>\n",
       "      <td>type 2</td>\n",
       "      <td>group 8688</td>\n",
       "      <td>type 3</td>\n",
       "      <td>2021-01-06</td>\n",
       "      <td>type 28</td>\n",
       "      <td>type 9</td>\n",
       "      <td>type 5</td>\n",
       "      <td>type 3</td>\n",
       "      <td>type 11</td>\n",
       "      <td>...</td>\n",
       "      <td>1</td>\n",
       "      <td>1</td>\n",
       "      <td>1</td>\n",
       "      <td>1</td>\n",
       "      <td>1</td>\n",
       "      <td>0</td>\n",
       "      <td>76</td>\n",
       "      <td>2021</td>\n",
       "      <td>1</td>\n",
       "      <td>6</td>\n",
       "    </tr>\n",
       "    <tr>\n",
       "      <th>2</th>\n",
       "      <td>ppl_100003</td>\n",
       "      <td>type 2</td>\n",
       "      <td>group 33592</td>\n",
       "      <td>type 3</td>\n",
       "      <td>2022-06-10</td>\n",
       "      <td>type 4</td>\n",
       "      <td>type 8</td>\n",
       "      <td>type 5</td>\n",
       "      <td>type 2</td>\n",
       "      <td>type 5</td>\n",
       "      <td>...</td>\n",
       "      <td>1</td>\n",
       "      <td>1</td>\n",
       "      <td>1</td>\n",
       "      <td>0</td>\n",
       "      <td>1</td>\n",
       "      <td>1</td>\n",
       "      <td>99</td>\n",
       "      <td>2022</td>\n",
       "      <td>6</td>\n",
       "      <td>10</td>\n",
       "    </tr>\n",
       "    <tr>\n",
       "      <th>3</th>\n",
       "      <td>ppl_100004</td>\n",
       "      <td>type 2</td>\n",
       "      <td>group 22593</td>\n",
       "      <td>type 3</td>\n",
       "      <td>2022-07-20</td>\n",
       "      <td>type 40</td>\n",
       "      <td>type 25</td>\n",
       "      <td>type 9</td>\n",
       "      <td>type 4</td>\n",
       "      <td>type 16</td>\n",
       "      <td>...</td>\n",
       "      <td>1</td>\n",
       "      <td>1</td>\n",
       "      <td>1</td>\n",
       "      <td>1</td>\n",
       "      <td>1</td>\n",
       "      <td>1</td>\n",
       "      <td>76</td>\n",
       "      <td>2022</td>\n",
       "      <td>7</td>\n",
       "      <td>20</td>\n",
       "    </tr>\n",
       "    <tr>\n",
       "      <th>4</th>\n",
       "      <td>ppl_100006</td>\n",
       "      <td>type 2</td>\n",
       "      <td>group 6534</td>\n",
       "      <td>type 3</td>\n",
       "      <td>2022-07-27</td>\n",
       "      <td>type 40</td>\n",
       "      <td>type 25</td>\n",
       "      <td>type 9</td>\n",
       "      <td>type 3</td>\n",
       "      <td>type 8</td>\n",
       "      <td>...</td>\n",
       "      <td>0</td>\n",
       "      <td>0</td>\n",
       "      <td>0</td>\n",
       "      <td>1</td>\n",
       "      <td>1</td>\n",
       "      <td>0</td>\n",
       "      <td>84</td>\n",
       "      <td>2022</td>\n",
       "      <td>7</td>\n",
       "      <td>27</td>\n",
       "    </tr>\n",
       "  </tbody>\n",
       "</table>\n",
       "<p>5 rows × 44 columns</p>\n",
       "</div>"
      ],
      "text/plain": [
       "    people_id  char_1      group_1  char_2       date   char_3   char_4  \\\n",
       "0     ppl_100  type 2  group 17304  type 2 2021-06-29   type 5   type 5   \n",
       "1  ppl_100002  type 2   group 8688  type 3 2021-01-06  type 28   type 9   \n",
       "2  ppl_100003  type 2  group 33592  type 3 2022-06-10   type 4   type 8   \n",
       "3  ppl_100004  type 2  group 22593  type 3 2022-07-20  type 40  type 25   \n",
       "4  ppl_100006  type 2   group 6534  type 3 2022-07-27  type 40  type 25   \n",
       "\n",
       "   char_5  char_6   char_7  ...   char_32 char_33  char_34  char_35  char_36  \\\n",
       "0  type 5  type 3  type 11  ...         0       0        1        1        1   \n",
       "1  type 5  type 3  type 11  ...         1       1        1        1        1   \n",
       "2  type 5  type 2   type 5  ...         1       1        1        0        1   \n",
       "3  type 9  type 4  type 16  ...         1       1        1        1        1   \n",
       "4  type 9  type 3   type 8  ...         0       0        0        1        1   \n",
       "\n",
       "   char_37  char_38  year_p  month_p  day_p  \n",
       "0        0       36    2021        6     29  \n",
       "1        0       76    2021        1      6  \n",
       "2        1       99    2022        6     10  \n",
       "3        1       76    2022        7     20  \n",
       "4        0       84    2022        7     27  \n",
       "\n",
       "[5 rows x 44 columns]"
      ]
     },
     "execution_count": 109,
     "metadata": {},
     "output_type": "execute_result"
    }
   ],
   "source": [
    "people.head()"
   ]
  },
  {
   "cell_type": "code",
   "execution_count": 6,
   "metadata": {
    "scrolled": true
   },
   "outputs": [
    {
     "data": {
      "text/html": [
       "<div>\n",
       "<style>\n",
       "    .dataframe thead tr:only-child th {\n",
       "        text-align: right;\n",
       "    }\n",
       "\n",
       "    .dataframe thead th {\n",
       "        text-align: left;\n",
       "    }\n",
       "\n",
       "    .dataframe tbody tr th {\n",
       "        vertical-align: top;\n",
       "    }\n",
       "</style>\n",
       "<table border=\"1\" class=\"dataframe\">\n",
       "  <thead>\n",
       "    <tr style=\"text-align: right;\">\n",
       "      <th></th>\n",
       "      <th>people_id</th>\n",
       "      <th>activity_id</th>\n",
       "      <th>activity_category</th>\n",
       "      <th>char_1_x</th>\n",
       "      <th>char_2_x</th>\n",
       "      <th>char_3_x</th>\n",
       "      <th>char_4_x</th>\n",
       "      <th>char_5_x</th>\n",
       "      <th>char_6_x</th>\n",
       "      <th>char_7_x</th>\n",
       "      <th>...</th>\n",
       "      <th>char_32</th>\n",
       "      <th>char_33</th>\n",
       "      <th>char_34</th>\n",
       "      <th>char_35</th>\n",
       "      <th>char_36</th>\n",
       "      <th>char_37</th>\n",
       "      <th>char_38</th>\n",
       "      <th>year_p</th>\n",
       "      <th>month_p</th>\n",
       "      <th>day_p</th>\n",
       "    </tr>\n",
       "  </thead>\n",
       "  <tbody>\n",
       "    <tr>\n",
       "      <th>2197286</th>\n",
       "      <td>ppl_99994</td>\n",
       "      <td>act2_4668076</td>\n",
       "      <td>type 4</td>\n",
       "      <td>NaN</td>\n",
       "      <td>NaN</td>\n",
       "      <td>NaN</td>\n",
       "      <td>NaN</td>\n",
       "      <td>NaN</td>\n",
       "      <td>NaN</td>\n",
       "      <td>NaN</td>\n",
       "      <td>...</td>\n",
       "      <td>1</td>\n",
       "      <td>0</td>\n",
       "      <td>1</td>\n",
       "      <td>1</td>\n",
       "      <td>1</td>\n",
       "      <td>1</td>\n",
       "      <td>95</td>\n",
       "      <td>2023</td>\n",
       "      <td>1</td>\n",
       "      <td>6</td>\n",
       "    </tr>\n",
       "    <tr>\n",
       "      <th>2197287</th>\n",
       "      <td>ppl_99994</td>\n",
       "      <td>act2_4743548</td>\n",
       "      <td>type 4</td>\n",
       "      <td>NaN</td>\n",
       "      <td>NaN</td>\n",
       "      <td>NaN</td>\n",
       "      <td>NaN</td>\n",
       "      <td>NaN</td>\n",
       "      <td>NaN</td>\n",
       "      <td>NaN</td>\n",
       "      <td>...</td>\n",
       "      <td>1</td>\n",
       "      <td>0</td>\n",
       "      <td>1</td>\n",
       "      <td>1</td>\n",
       "      <td>1</td>\n",
       "      <td>1</td>\n",
       "      <td>95</td>\n",
       "      <td>2023</td>\n",
       "      <td>1</td>\n",
       "      <td>6</td>\n",
       "    </tr>\n",
       "    <tr>\n",
       "      <th>2197288</th>\n",
       "      <td>ppl_99994</td>\n",
       "      <td>act2_536973</td>\n",
       "      <td>type 2</td>\n",
       "      <td>NaN</td>\n",
       "      <td>NaN</td>\n",
       "      <td>NaN</td>\n",
       "      <td>NaN</td>\n",
       "      <td>NaN</td>\n",
       "      <td>NaN</td>\n",
       "      <td>NaN</td>\n",
       "      <td>...</td>\n",
       "      <td>1</td>\n",
       "      <td>0</td>\n",
       "      <td>1</td>\n",
       "      <td>1</td>\n",
       "      <td>1</td>\n",
       "      <td>1</td>\n",
       "      <td>95</td>\n",
       "      <td>2023</td>\n",
       "      <td>1</td>\n",
       "      <td>6</td>\n",
       "    </tr>\n",
       "    <tr>\n",
       "      <th>2197289</th>\n",
       "      <td>ppl_99994</td>\n",
       "      <td>act2_688656</td>\n",
       "      <td>type 4</td>\n",
       "      <td>NaN</td>\n",
       "      <td>NaN</td>\n",
       "      <td>NaN</td>\n",
       "      <td>NaN</td>\n",
       "      <td>NaN</td>\n",
       "      <td>NaN</td>\n",
       "      <td>NaN</td>\n",
       "      <td>...</td>\n",
       "      <td>1</td>\n",
       "      <td>0</td>\n",
       "      <td>1</td>\n",
       "      <td>1</td>\n",
       "      <td>1</td>\n",
       "      <td>1</td>\n",
       "      <td>95</td>\n",
       "      <td>2023</td>\n",
       "      <td>1</td>\n",
       "      <td>6</td>\n",
       "    </tr>\n",
       "    <tr>\n",
       "      <th>2197290</th>\n",
       "      <td>ppl_99994</td>\n",
       "      <td>act2_715089</td>\n",
       "      <td>type 2</td>\n",
       "      <td>NaN</td>\n",
       "      <td>NaN</td>\n",
       "      <td>NaN</td>\n",
       "      <td>NaN</td>\n",
       "      <td>NaN</td>\n",
       "      <td>NaN</td>\n",
       "      <td>NaN</td>\n",
       "      <td>...</td>\n",
       "      <td>1</td>\n",
       "      <td>0</td>\n",
       "      <td>1</td>\n",
       "      <td>1</td>\n",
       "      <td>1</td>\n",
       "      <td>1</td>\n",
       "      <td>95</td>\n",
       "      <td>2023</td>\n",
       "      <td>1</td>\n",
       "      <td>6</td>\n",
       "    </tr>\n",
       "  </tbody>\n",
       "</table>\n",
       "<p>5 rows × 60 columns</p>\n",
       "</div>"
      ],
      "text/plain": [
       "         people_id   activity_id activity_category char_1_x char_2_x char_3_x  \\\n",
       "2197286  ppl_99994  act2_4668076            type 4      NaN      NaN      NaN   \n",
       "2197287  ppl_99994  act2_4743548            type 4      NaN      NaN      NaN   \n",
       "2197288  ppl_99994   act2_536973            type 2      NaN      NaN      NaN   \n",
       "2197289  ppl_99994   act2_688656            type 4      NaN      NaN      NaN   \n",
       "2197290  ppl_99994   act2_715089            type 2      NaN      NaN      NaN   \n",
       "\n",
       "        char_4_x char_5_x char_6_x char_7_x  ...  char_32 char_33 char_34  \\\n",
       "2197286      NaN      NaN      NaN      NaN  ...        1       0       1   \n",
       "2197287      NaN      NaN      NaN      NaN  ...        1       0       1   \n",
       "2197288      NaN      NaN      NaN      NaN  ...        1       0       1   \n",
       "2197289      NaN      NaN      NaN      NaN  ...        1       0       1   \n",
       "2197290      NaN      NaN      NaN      NaN  ...        1       0       1   \n",
       "\n",
       "         char_35  char_36  char_37  char_38 year_p month_p day_p  \n",
       "2197286        1        1        1       95   2023       1     6  \n",
       "2197287        1        1        1       95   2023       1     6  \n",
       "2197288        1        1        1       95   2023       1     6  \n",
       "2197289        1        1        1       95   2023       1     6  \n",
       "2197290        1        1        1       95   2023       1     6  \n",
       "\n",
       "[5 rows x 60 columns]"
      ]
     },
     "execution_count": 6,
     "metadata": {},
     "output_type": "execute_result"
    }
   ],
   "source": [
    "trainMerge = pd.merge(actions_train, people, on='people_id')\n",
    "trainMerge.tail()\n"
   ]
  },
  {
   "cell_type": "code",
   "execution_count": 100,
   "metadata": {
    "scrolled": true
   },
   "outputs": [
    {
     "name": "stdout",
     "output_type": "stream",
     "text": [
      "<class 'pandas.core.frame.DataFrame'>\n",
      "Int64Index: 2197291 entries, 0 to 2197290\n",
      "Data columns (total 57 columns):\n",
      "people_id            object\n",
      "activity_id          object\n",
      "activity_category    object\n",
      "char_1_x             object\n",
      "char_2_x             object\n",
      "char_3_x             object\n",
      "char_4_x             object\n",
      "char_5_x             object\n",
      "char_6_x             object\n",
      "char_7_x             object\n",
      "char_8_x             object\n",
      "char_9_x             object\n",
      "char_10_x            object\n",
      "outcome              int64\n",
      "year                 int64\n",
      "month                int64\n",
      "day                  int64\n",
      "char_1_y             object\n",
      "group_1              object\n",
      "char_2_y             object\n",
      "date                 object\n",
      "char_3_y             object\n",
      "char_4_y             object\n",
      "char_5_y             object\n",
      "char_6_y             object\n",
      "char_7_y             object\n",
      "char_8_y             object\n",
      "char_9_y             object\n",
      "char_10_y            bool\n",
      "char_11              bool\n",
      "char_12              bool\n",
      "char_13              bool\n",
      "char_14              bool\n",
      "char_15              bool\n",
      "char_16              bool\n",
      "char_17              bool\n",
      "char_18              bool\n",
      "char_19              bool\n",
      "char_20              bool\n",
      "char_21              bool\n",
      "char_22              bool\n",
      "char_23              bool\n",
      "char_24              bool\n",
      "char_25              bool\n",
      "char_26              bool\n",
      "char_27              bool\n",
      "char_28              bool\n",
      "char_29              bool\n",
      "char_30              bool\n",
      "char_31              bool\n",
      "char_32              bool\n",
      "char_33              bool\n",
      "char_34              bool\n",
      "char_35              bool\n",
      "char_36              bool\n",
      "char_37              bool\n",
      "char_38              int64\n",
      "dtypes: bool(28), int64(5), object(24)\n",
      "memory usage: 561.6+ MB\n"
     ]
    }
   ],
   "source": [
    "trainMerge.info()"
   ]
  },
  {
   "cell_type": "code",
   "execution_count": 168,
   "metadata": {},
   "outputs": [
    {
     "data": {
      "text/html": [
       "<div>\n",
       "<style>\n",
       "    .dataframe thead tr:only-child th {\n",
       "        text-align: right;\n",
       "    }\n",
       "\n",
       "    .dataframe thead th {\n",
       "        text-align: left;\n",
       "    }\n",
       "\n",
       "    .dataframe tbody tr th {\n",
       "        vertical-align: top;\n",
       "    }\n",
       "</style>\n",
       "<table border=\"1\" class=\"dataframe\">\n",
       "  <thead>\n",
       "    <tr style=\"text-align: right;\">\n",
       "      <th></th>\n",
       "      <th>people_id</th>\n",
       "      <th>activity_id</th>\n",
       "      <th>date_x</th>\n",
       "      <th>activity_category</th>\n",
       "      <th>char_1_x</th>\n",
       "      <th>char_2_x</th>\n",
       "      <th>char_3_x</th>\n",
       "      <th>char_4_x</th>\n",
       "      <th>char_5_x</th>\n",
       "      <th>char_6_x</th>\n",
       "      <th>...</th>\n",
       "      <th>char_29</th>\n",
       "      <th>char_30</th>\n",
       "      <th>char_31</th>\n",
       "      <th>char_32</th>\n",
       "      <th>char_33</th>\n",
       "      <th>char_34</th>\n",
       "      <th>char_35</th>\n",
       "      <th>char_36</th>\n",
       "      <th>char_37</th>\n",
       "      <th>char_38</th>\n",
       "    </tr>\n",
       "    <tr>\n",
       "      <th>outcome</th>\n",
       "      <th></th>\n",
       "      <th></th>\n",
       "      <th></th>\n",
       "      <th></th>\n",
       "      <th></th>\n",
       "      <th></th>\n",
       "      <th></th>\n",
       "      <th></th>\n",
       "      <th></th>\n",
       "      <th></th>\n",
       "      <th></th>\n",
       "      <th></th>\n",
       "      <th></th>\n",
       "      <th></th>\n",
       "      <th></th>\n",
       "      <th></th>\n",
       "      <th></th>\n",
       "      <th></th>\n",
       "      <th></th>\n",
       "      <th></th>\n",
       "      <th></th>\n",
       "    </tr>\n",
       "  </thead>\n",
       "  <tbody>\n",
       "    <tr>\n",
       "      <th>0</th>\n",
       "      <td>83034</td>\n",
       "      <td>83034</td>\n",
       "      <td>83034</td>\n",
       "      <td>83034</td>\n",
       "      <td>31196</td>\n",
       "      <td>31196</td>\n",
       "      <td>31196</td>\n",
       "      <td>31196</td>\n",
       "      <td>31196</td>\n",
       "      <td>31196</td>\n",
       "      <td>...</td>\n",
       "      <td>83034</td>\n",
       "      <td>83034</td>\n",
       "      <td>83034</td>\n",
       "      <td>83034</td>\n",
       "      <td>83034</td>\n",
       "      <td>83034</td>\n",
       "      <td>83034</td>\n",
       "      <td>83034</td>\n",
       "      <td>83034</td>\n",
       "      <td>83034</td>\n",
       "    </tr>\n",
       "    <tr>\n",
       "      <th>1</th>\n",
       "      <td>49239</td>\n",
       "      <td>49239</td>\n",
       "      <td>49239</td>\n",
       "      <td>49239</td>\n",
       "      <td>16178</td>\n",
       "      <td>16178</td>\n",
       "      <td>16178</td>\n",
       "      <td>16178</td>\n",
       "      <td>16178</td>\n",
       "      <td>16178</td>\n",
       "      <td>...</td>\n",
       "      <td>49239</td>\n",
       "      <td>49239</td>\n",
       "      <td>49239</td>\n",
       "      <td>49239</td>\n",
       "      <td>49239</td>\n",
       "      <td>49239</td>\n",
       "      <td>49239</td>\n",
       "      <td>49239</td>\n",
       "      <td>49239</td>\n",
       "      <td>49239</td>\n",
       "    </tr>\n",
       "  </tbody>\n",
       "</table>\n",
       "<p>2 rows × 54 columns</p>\n",
       "</div>"
      ],
      "text/plain": [
       "         people_id  activity_id  date_x  activity_category  char_1_x  \\\n",
       "outcome                                                                \n",
       "0            83034        83034   83034              83034     31196   \n",
       "1            49239        49239   49239              49239     16178   \n",
       "\n",
       "         char_2_x  char_3_x  char_4_x  char_5_x  char_6_x   ...     char_29  \\\n",
       "outcome                                                     ...               \n",
       "0           31196     31196     31196     31196     31196   ...       83034   \n",
       "1           16178     16178     16178     16178     16178   ...       49239   \n",
       "\n",
       "         char_30  char_31  char_32  char_33  char_34  char_35  char_36  \\\n",
       "outcome                                                                  \n",
       "0          83034    83034    83034    83034    83034    83034    83034   \n",
       "1          49239    49239    49239    49239    49239    49239    49239   \n",
       "\n",
       "         char_37  char_38  \n",
       "outcome                    \n",
       "0          83034    83034  \n",
       "1          49239    49239  \n",
       "\n",
       "[2 rows x 54 columns]"
      ]
     },
     "execution_count": 168,
     "metadata": {},
     "output_type": "execute_result"
    }
   ],
   "source": [
    "trainMerge[trainMerge['date_x'] ==trainMerge['date_y']].groupby('outcome').count()"
   ]
  },
  {
   "cell_type": "code",
   "execution_count": 126,
   "metadata": {
    "collapsed": true
   },
   "outputs": [],
   "source": [
    "for idx in trainMerge.columns:\n",
    "    if 'type 0' in list(trainMerge[idx].unique()):\n",
    "        print (idx, 'type 0 ')\n",
    "    else:pass"
   ]
  },
  {
   "cell_type": "markdown",
   "metadata": {},
   "source": [
    "# 조현윤님 code"
   ]
  },
  {
   "cell_type": "code",
   "execution_count": 7,
   "metadata": {
    "scrolled": false
   },
   "outputs": [
    {
     "name": "stdout",
     "output_type": "stream",
     "text": [
      "loading .....  act_train\n",
      "loading ......  act_test\n",
      "loading ..... people\n",
      "Merge ......\n",
      "Number of active people in train : 151295\n",
      "Number of active people in test : 37823\n",
      "Processing Train\n",
      "people_id\n",
      "activity_id\n",
      "date_x\n",
      "activity_category\n",
      "char_1_x\n",
      "char_2_x\n",
      "char_3_x\n",
      "char_4_x\n",
      "char_5_x\n",
      "char_6_x\n",
      "char_7_x\n",
      "char_8_x\n",
      "char_9_x\n",
      "char_10_x\n",
      "outcome\n",
      "char_1_y\n",
      "group_1\n",
      "char_2_y\n",
      "date_y\n",
      "char_3_y\n",
      "char_4_y\n",
      "char_5_y\n",
      "char_6_y\n",
      "char_7_y\n",
      "char_8_y\n",
      "char_9_y\n",
      "char_10_y\n",
      "char_11\n",
      "char_12\n",
      "char_13\n",
      "char_14\n",
      "char_15\n",
      "char_16\n",
      "char_17\n",
      "char_18\n",
      "char_19\n",
      "char_20\n",
      "char_21\n",
      "char_22\n",
      "char_23\n",
      "char_24\n",
      "char_25\n",
      "char_26\n",
      "char_27\n",
      "char_28\n",
      "char_29\n",
      "char_30\n",
      "char_31\n",
      "char_32\n",
      "char_33\n",
      "char_34\n",
      "char_35\n",
      "char_36\n",
      "char_37\n",
      "char_38\n",
      "Processing Test\n",
      "people_id\n",
      "activity_id\n",
      "date_x\n",
      "activity_category\n",
      "char_1_x\n",
      "char_2_x\n",
      "char_3_x\n",
      "char_4_x\n",
      "char_5_x\n",
      "char_6_x\n",
      "char_7_x\n",
      "char_8_x\n",
      "char_9_x\n",
      "char_10_x\n",
      "char_1_y\n",
      "group_1\n",
      "char_2_y\n",
      "date_y\n",
      "char_3_y\n",
      "char_4_y\n",
      "char_5_y\n",
      "char_6_y\n",
      "char_7_y\n",
      "char_8_y\n",
      "char_9_y\n",
      "char_10_y\n",
      "char_11\n",
      "char_12\n",
      "char_13\n",
      "char_14\n",
      "char_15\n",
      "char_16\n",
      "char_17\n",
      "char_18\n",
      "char_19\n",
      "char_20\n",
      "char_21\n",
      "char_22\n",
      "char_23\n",
      "char_24\n",
      "char_25\n",
      "char_26\n",
      "char_27\n",
      "char_28\n",
      "char_29\n",
      "char_30\n",
      "char_31\n",
      "char_32\n",
      "char_33\n",
      "char_34\n",
      "char_35\n",
      "char_36\n",
      "char_37\n",
      "char_38\n",
      "[0]\ttrain-auc:0.908775\teval-auc:0.908475\n",
      "Multiple eval metrics have been passed: 'eval-auc' will be used for early stopping.\n",
      "\n",
      "Will train until eval-auc hasn't improved in 10 rounds.\n",
      "[1]\ttrain-auc:0.923682\teval-auc:0.923196\n",
      "[2]\ttrain-auc:0.922764\teval-auc:0.922148\n",
      "[3]\ttrain-auc:0.926376\teval-auc:0.925859\n",
      "[4]\ttrain-auc:0.927387\teval-auc:0.926823\n",
      "[5]\ttrain-auc:0.928607\teval-auc:0.928126\n",
      "[6]\ttrain-auc:0.931058\teval-auc:0.930691\n",
      "[7]\ttrain-auc:0.931778\teval-auc:0.931455\n",
      "[8]\ttrain-auc:0.932473\teval-auc:0.932122\n",
      "[9]\ttrain-auc:0.933594\teval-auc:0.933227\n",
      "[10]\ttrain-auc:0.934255\teval-auc:0.933857\n",
      "[11]\ttrain-auc:0.935153\teval-auc:0.934753\n",
      "[12]\ttrain-auc:0.936123\teval-auc:0.935724\n",
      "[13]\ttrain-auc:0.936504\teval-auc:0.936089\n",
      "[14]\ttrain-auc:0.936998\teval-auc:0.93661\n",
      "[15]\ttrain-auc:0.938035\teval-auc:0.937768\n",
      "[16]\ttrain-auc:0.939312\teval-auc:0.939129\n",
      "[17]\ttrain-auc:0.93975\teval-auc:0.939563\n",
      "[18]\ttrain-auc:0.940101\teval-auc:0.939874\n",
      "[19]\ttrain-auc:0.941222\teval-auc:0.941038\n",
      "[20]\ttrain-auc:0.941727\teval-auc:0.941515\n",
      "[21]\ttrain-auc:0.942705\teval-auc:0.942436\n",
      "[22]\ttrain-auc:0.943176\teval-auc:0.942915\n",
      "[23]\ttrain-auc:0.943484\teval-auc:0.943345\n",
      "[24]\ttrain-auc:0.943934\teval-auc:0.943717\n",
      "[25]\ttrain-auc:0.944231\teval-auc:0.944003\n",
      "[26]\ttrain-auc:0.944596\teval-auc:0.94431\n",
      "[27]\ttrain-auc:0.944851\teval-auc:0.944561\n",
      "[28]\ttrain-auc:0.945401\teval-auc:0.945094\n",
      "[29]\ttrain-auc:0.945809\teval-auc:0.945532\n",
      "[30]\ttrain-auc:0.946181\teval-auc:0.945904\n",
      "[31]\ttrain-auc:0.94683\teval-auc:0.946524\n",
      "[32]\ttrain-auc:0.947421\teval-auc:0.947101\n",
      "[33]\ttrain-auc:0.947533\teval-auc:0.947217\n",
      "[34]\ttrain-auc:0.948007\teval-auc:0.947656\n",
      "[35]\ttrain-auc:0.948693\teval-auc:0.948386\n",
      "[36]\ttrain-auc:0.949222\teval-auc:0.948885\n",
      "[37]\ttrain-auc:0.949829\teval-auc:0.949526\n",
      "[38]\ttrain-auc:0.950153\teval-auc:0.949854\n",
      "[39]\ttrain-auc:0.950288\teval-auc:0.949957\n",
      "[40]\ttrain-auc:0.951234\teval-auc:0.950782\n",
      "[41]\ttrain-auc:0.951688\teval-auc:0.951238\n",
      "[42]\ttrain-auc:0.951907\teval-auc:0.951472\n",
      "[43]\ttrain-auc:0.952384\teval-auc:0.952039\n",
      "[44]\ttrain-auc:0.95278\teval-auc:0.95241\n",
      "[45]\ttrain-auc:0.953103\teval-auc:0.9527\n",
      "[46]\ttrain-auc:0.953609\teval-auc:0.953176\n",
      "[47]\ttrain-auc:0.953705\teval-auc:0.953259\n",
      "[48]\ttrain-auc:0.95421\teval-auc:0.953801\n",
      "[49]\ttrain-auc:0.95448\teval-auc:0.954076\n",
      "[50]\ttrain-auc:0.954866\teval-auc:0.954439\n",
      "[51]\ttrain-auc:0.955249\teval-auc:0.954837\n",
      "[52]\ttrain-auc:0.955636\teval-auc:0.95526\n",
      "[53]\ttrain-auc:0.956259\teval-auc:0.955865\n",
      "[54]\ttrain-auc:0.956601\teval-auc:0.956209\n",
      "[55]\ttrain-auc:0.956872\teval-auc:0.956489\n",
      "[56]\ttrain-auc:0.957175\teval-auc:0.956745\n",
      "[57]\ttrain-auc:0.957444\teval-auc:0.957046\n",
      "[58]\ttrain-auc:0.957611\teval-auc:0.957222\n",
      "[59]\ttrain-auc:0.957727\teval-auc:0.957346\n",
      "[60]\ttrain-auc:0.957985\teval-auc:0.957602\n",
      "[61]\ttrain-auc:0.958165\teval-auc:0.957778\n",
      "[62]\ttrain-auc:0.95857\teval-auc:0.958121\n",
      "[63]\ttrain-auc:0.958801\teval-auc:0.958356\n",
      "[64]\ttrain-auc:0.958996\teval-auc:0.958543\n",
      "[65]\ttrain-auc:0.959343\teval-auc:0.958892\n",
      "[66]\ttrain-auc:0.959492\teval-auc:0.959026\n",
      "[67]\ttrain-auc:0.960142\teval-auc:0.959627\n",
      "[68]\ttrain-auc:0.960285\teval-auc:0.959762\n",
      "[69]\ttrain-auc:0.960702\teval-auc:0.960196\n",
      "[70]\ttrain-auc:0.960925\teval-auc:0.960404\n",
      "[71]\ttrain-auc:0.961017\teval-auc:0.960495\n",
      "[72]\ttrain-auc:0.961105\teval-auc:0.960587\n",
      "[73]\ttrain-auc:0.961322\teval-auc:0.960797\n",
      "[74]\ttrain-auc:0.961829\teval-auc:0.961252\n",
      "[75]\ttrain-auc:0.96221\teval-auc:0.961629\n",
      "[76]\ttrain-auc:0.962412\teval-auc:0.961833\n",
      "[77]\ttrain-auc:0.962686\teval-auc:0.962124\n",
      "[78]\ttrain-auc:0.963057\teval-auc:0.962485\n",
      "[79]\ttrain-auc:0.963284\teval-auc:0.962726\n",
      "[80]\ttrain-auc:0.963659\teval-auc:0.963106\n",
      "[81]\ttrain-auc:0.963734\teval-auc:0.963183\n",
      "[82]\ttrain-auc:0.9638\teval-auc:0.963252\n",
      "[83]\ttrain-auc:0.964218\teval-auc:0.963692\n",
      "[84]\ttrain-auc:0.964331\teval-auc:0.963793\n",
      "[85]\ttrain-auc:0.964558\teval-auc:0.964009\n",
      "[86]\ttrain-auc:0.964591\teval-auc:0.964037\n",
      "[87]\ttrain-auc:0.964629\teval-auc:0.964069\n",
      "[88]\ttrain-auc:0.96464\teval-auc:0.964076\n",
      "[89]\ttrain-auc:0.964817\teval-auc:0.964243\n",
      "[90]\ttrain-auc:0.96502\teval-auc:0.964421\n",
      "[91]\ttrain-auc:0.965396\teval-auc:0.96486\n",
      "[92]\ttrain-auc:0.965612\teval-auc:0.965054\n",
      "[93]\ttrain-auc:0.965787\teval-auc:0.965212\n",
      "[94]\ttrain-auc:0.965918\teval-auc:0.965349\n",
      "[95]\ttrain-auc:0.966058\teval-auc:0.965489\n",
      "[96]\ttrain-auc:0.966295\teval-auc:0.965736\n",
      "[97]\ttrain-auc:0.966509\teval-auc:0.965939\n",
      "[98]\ttrain-auc:0.966721\teval-auc:0.966167\n",
      "[99]\ttrain-auc:0.966927\teval-auc:0.966381\n",
      "[100]\ttrain-auc:0.967051\teval-auc:0.966498\n",
      "[101]\ttrain-auc:0.96724\teval-auc:0.966684\n",
      "[102]\ttrain-auc:0.967294\teval-auc:0.966727\n",
      "[103]\ttrain-auc:0.967517\teval-auc:0.966927\n",
      "[104]\ttrain-auc:0.967749\teval-auc:0.967155\n",
      "[105]\ttrain-auc:0.967816\teval-auc:0.967215\n",
      "[106]\ttrain-auc:0.968091\teval-auc:0.967464\n",
      "[107]\ttrain-auc:0.968303\teval-auc:0.967659\n",
      "[108]\ttrain-auc:0.968596\teval-auc:0.967936\n",
      "[109]\ttrain-auc:0.968832\teval-auc:0.968149\n",
      "[110]\ttrain-auc:0.96894\teval-auc:0.968227\n",
      "[111]\ttrain-auc:0.969079\teval-auc:0.968375\n",
      "[112]\ttrain-auc:0.969278\teval-auc:0.968602\n",
      "[113]\ttrain-auc:0.969501\teval-auc:0.968825\n",
      "[114]\ttrain-auc:0.969607\teval-auc:0.968958\n",
      "[115]\ttrain-auc:0.969751\teval-auc:0.969105\n",
      "[116]\ttrain-auc:0.969969\teval-auc:0.96932\n",
      "[117]\ttrain-auc:0.97007\teval-auc:0.96943\n",
      "[118]\ttrain-auc:0.970123\teval-auc:0.969482\n",
      "[119]\ttrain-auc:0.970219\teval-auc:0.969581\n",
      "importance array:  [('group_1', 914), ('char_38', 378), ('char_7_y', 319), ('day_y', 153), ('char_6_y', 144), ('char_8_y', 126), ('char_9_y', 126), ('month_y', 103), ('char_3_y', 96), ('weekday_y', 79), ('char_4_y', 75), ('char_10_x', 72), ('month_x', 68), ('year_x', 54), ('year_y', 46), ('char_5_y', 43), ('char_10_y', 35), ('char_29', 35), ('char_2_y', 34), ('char_25', 29), ('char_20', 27), ('char_31', 25), ('char_1_y', 24), ('char_15', 23), ('char_13', 22), ('char_26', 21), ('char_35', 21), ('char_30', 20), ('char_36', 19), ('char_18', 19), ('char_11', 19), ('char_24', 19), ('activity_category', 18), ('char_37', 18), ('char_16', 17), ('char_27', 15), ('char_33', 15), ('day_x', 15), ('char_19', 14), ('char_23', 13), ('char_34', 12), ('char_14', 12), ('char_17', 11), ('char_21', 11), ('char_32', 11), ('char_22', 10), ('char_12', 9), ('char_1_x', 8), ('char_9_x', 7), ('weekday_x', 6), ('weekend_y', 6), ('weekend_x', 4), ('char_28', 4), ('char_2_x', 4), ('char_7_x', 2), ('char_5_x', 2), ('char_8_x', 1), ('char_6_x', 1), ('char_4_x', 1), ('char_3_x', 1)]\n"
     ]
    }
   ],
   "source": [
    "import pandas as pd\n",
    "import numpy as np\n",
    "import datetime\n",
    "import pandas as pd\n",
    "import numpy as np\n",
    "from sklearn.cross_validation import KFold\n",
    "from sklearn.metrics import roc_auc_score\n",
    "import xgboost as xgb\n",
    "import random\n",
    "from operator import itemgetter\n",
    "import time\n",
    "import copy\n",
    "import scipy as sp\n",
    "from sklearn.cross_validation import train_test_split\n",
    "from sklearn.model_selection import KFold\n",
    "from sklearn.metrics import classification_report,confusion_matrix\n",
    "from sklearn.ensemble import RandomForestClassifier, ExtraTreesClassifier\n",
    "from sklearn.preprocessing import LabelEncoder\n",
    "import xgboost\n",
    "\n",
    "def create_feature_map(features):\n",
    "    outfile = open('xgb.fmap', 'w')\n",
    "    for i, feat in enumerate(features):\n",
    "        outfile.write('{0}\\t{1}\\tq\\n'.format(i, feat))\n",
    "    outfile.close()\n",
    "\n",
    "\n",
    "def get_importance(gbm, features):\n",
    "    create_feature_map(features)\n",
    "    importance = gbm.get_fscore(fmap='xgb.fmap')\n",
    "    importance = sorted(importance.items(), key=itemgetter(1), reverse=True)\n",
    "    return importance\n",
    "\n",
    "\n",
    "def intersect(a, b):\n",
    "    return list(set(a) & set(b))\n",
    "\n",
    "\n",
    "def get_features(train, test):\n",
    "    trainval = list(train.columns.values)\n",
    "    testval = list(test.columns.values)\n",
    "    output = intersect(trainval, testval)\n",
    "    output.remove('people_id')\n",
    "    return sorted(output)\n",
    "\n",
    "def Load_DataSet():\n",
    "    print (\"loading .....  act_train\")\n",
    "    act_train = pd.read_csv('./data/act_train.csv',\n",
    "                            dtype={'people_id': np.str,\n",
    "                                'activity_id': np.str,\n",
    "                                'outcome': np.int8},\n",
    "                         parse_dates=['date'])\n",
    "    print (\"loading ......  act_test\")\n",
    "    act_test = pd.read_csv('./data/act_test.csv',\n",
    "                           dtype={'people_id': np.str,\n",
    "                                'activity_id': np.str},\n",
    "                         parse_dates=['date'])\n",
    "    print (\"loading ..... people\")\n",
    "    people = pd.read_csv('./data/people.csv',\n",
    "                         dtype={'people_id': np.str,\n",
    "                               'activity_id': np.str,\n",
    "                               'char_38': np.int32},\n",
    "                        parse_dates=['date'])\n",
    "    print (\"Merge ......\")\n",
    "    trainMerge= act_train.merge(people, on=\"people_id\")\n",
    "    testMerge = act_test.merge(people, on=\"people_id\")\n",
    "    print('Number of active people in train : {}'.format(trainMerge['people_id'].nunique()))\n",
    "    print('Number of active people in test : {}'.format(testMerge['people_id'].nunique()))\n",
    "    print (\"Processing Train\")\n",
    "    for idx in trainMerge.columns:\n",
    "        print (idx)\n",
    "        if idx not in ['people_id', 'activity_id', 'date_x','date_y', 'char_38', 'outcome']:\n",
    "            if trainMerge[idx].dtype == 'object':\n",
    "                trainMerge.fillna('type 0', inplace = True)\n",
    "                trainMerge[idx] = trainMerge[idx].apply(lambda x:x.split(' ')[1]).astype(np.int32)\n",
    "            elif trainMerge[idx].dtype == 'bool':\n",
    "                trainMerge[idx] = trainMerge[idx].astype(np.int8)\n",
    "    trainMerge['date_x'] = pd.to_datetime(trainMerge['date_x'])\n",
    "    trainMerge['date_y'] = pd.to_datetime(trainMerge['date_y'])\n",
    "    trainMerge['year_x'] = trainMerge['date_x'].dt.year\n",
    "    trainMerge['month_x'] = trainMerge['date_x'].dt.month\n",
    "    trainMerge['day_x'] = trainMerge['date_x'].dt.day\n",
    "    trainMerge['weekday_x'] = trainMerge['date_x'].dt.weekday\n",
    "    trainMerge['weekend_x'] = ((trainMerge.weekday_x == 0) | (trainMerge.weekday_x == 6)).astype(int)\n",
    "    trainMerge = trainMerge.drop('date_x', axis = 1)\n",
    "\n",
    "    trainMerge['year_y'] = trainMerge['date_y'].dt.year\n",
    "    trainMerge['month_y'] = trainMerge['date_y'].dt.month\n",
    "    trainMerge['day_y'] = trainMerge['date_y'].dt.day\n",
    "    trainMerge['weekday_y'] = trainMerge['date_y'].dt.weekday\n",
    "    trainMerge['weekend_y'] = ((trainMerge.weekday_y == 0) | (trainMerge.weekday_y == 6)).astype(int)\n",
    "    trainMerge = trainMerge.drop('date_y', axis = 1)\n",
    "\n",
    "    print (\"Processing Test\")\n",
    "    for idx in testMerge.columns:\n",
    "        print (idx)\n",
    "        if idx not in ['people_id', 'activity_id', 'date_x','date_y', 'char_38', 'outcome']:\n",
    "            if testMerge[idx].dtype == 'object':\n",
    "                testMerge.fillna('type 0', inplace = True)\n",
    "                testMerge[idx] = testMerge[idx].apply(lambda x:x.split(' ')[1]).astype(np.int32)\n",
    "            elif testMerge[idx].dtype == 'bool':\n",
    "                testMerge[idx] = testMerge[idx].astype(np.int8)\n",
    "    testMerge['date_x'] = pd.to_datetime(testMerge['date_x'])\n",
    "    testMerge['date_y'] = pd.to_datetime(testMerge['date_y'])\n",
    "    testMerge['year_x'] = testMerge['date_x'].dt.year\n",
    "    testMerge['month_x'] = testMerge['date_x'].dt.month\n",
    "    testMerge['day_x'] = testMerge['date_x'].dt.day\n",
    "    testMerge['weekday_x'] = testMerge['date_x'].dt.weekday\n",
    "    testMerge['weekend_x'] = ((testMerge.weekday_x == 0) | (testMerge.weekday_x == 6)).astype(int)\n",
    "    testMerge = testMerge.drop('date_x', axis = 1)\n",
    "\n",
    "    testMerge['year_y'] = testMerge['date_y'].dt.year\n",
    "    testMerge['month_y'] = testMerge['date_y'].dt.month\n",
    "    testMerge['day_y'] = testMerge['date_y'].dt.day\n",
    "    testMerge['weekday_y'] = testMerge['date_y'].dt.weekday\n",
    "    testMerge['weekend_y'] = ((testMerge.weekday_y == 0) | (testMerge.weekday_y == 6)).astype(int)\n",
    "    testMerge = testMerge.drop('date_y', axis = 1)\n",
    "    return trainMerge, testMerge\n",
    "\n",
    "\n",
    "def run(train, test, random_state=0):\n",
    "    eta = 0.5\n",
    "    max_depth = 5\n",
    "    subsample = 0.6\n",
    "    colsample_bytree = 0.8\n",
    "    start_time = time.time()\n",
    "    params ={\n",
    "        \"objective\": \"binary:logistic\",\n",
    "        \"booster\" : \"gbtree\",\n",
    "        \"eval_metric\": \"auc\",\n",
    "        \"max_depth\" : max_depth,\n",
    "        \"subsample\": subsample,\n",
    "        \"colsample_bytree\": colsample_bytree,\n",
    "        \"silent\":1,\n",
    "        \"seed\": random_state\n",
    "    }\n",
    "    num_boost_round = 120\n",
    "    early_stopping_rounds = 10\n",
    "    test_size = 0.1\n",
    "    X_train, X_valid = train_test_split(train, test_size=test_size, random_state=random_state)\n",
    "    y_train = X_train['outcome']\n",
    "    y_valid = X_valid['outcome']\n",
    "    X_train = X_train.drop(['people_id','activity_id','outcome'], axis = 1)\n",
    "    X_valid = X_valid.drop(['people_id','activity_id','outcome'], axis = 1)\n",
    "    dtrain = xgb.DMatrix(X_train, y_train)\n",
    "    dvalid = xgb.DMatrix(X_valid, y_valid)\n",
    "    watchlist = [(dtrain, 'train'), (dvalid, 'eval')]\n",
    "    gbm = xgb.train(params, dtrain, num_boost_round, evals=watchlist, early_stopping_rounds=early_stopping_rounds, verbose_eval=True)\n",
    "\n",
    "    check = gbm.predict(xgb.DMatrix(X_valid), ntree_limit=gbm.best_iteration+1)\n",
    "    score = roc_auc_score(y_valid, check)\n",
    "    testActivityId = test['activity_id']\n",
    "    test = test.drop(['people_id','activity_id'],axis = 1)\n",
    "    test_prediction = gbm.predict(xgb.DMatrix(test), ntree_limit=gbm.best_iteration+1)\n",
    "    imp = get_importance(gbm,X_train.columns)\n",
    "    print ('importance array: ', imp)\n",
    "    out = pd.concat([testActivityId,pd.DataFrame(test_prediction.round())],axis = 1)\n",
    "    out.rename({0:'outcome'},axis = 1, inplace = True)\n",
    "    return out\n",
    "\n",
    "def Main():\n",
    "    train, test = Load_DataSet()\n",
    "    out = run(train,test)\n",
    "    out.to_csv('./submission02.csv',index = False)\n",
    "\n",
    "\n",
    "\n",
    "\n",
    "\n",
    "\n",
    "\n",
    "\n",
    "\n",
    "if __name__ == \"__main__\":\n",
    "    Main()\n",
    "\n",
    "\n",
    "\n"
   ]
  },
  {
   "cell_type": "markdown",
   "metadata": {},
   "source": [
    "## merge한 상태에서 모든 featrue 영향력 check"
   ]
  },
  {
   "cell_type": "markdown",
   "metadata": {
    "collapsed": true
   },
   "source": [
    "### X(data set) 모음"
   ]
  },
  {
   "cell_type": "code",
   "execution_count": 114,
   "metadata": {
    "collapsed": true
   },
   "outputs": [],
   "source": [
    "#date 둘 다 넣은 set\n",
    "X = trainMerge.drop(['people_id','activity_id','outcome','date'],axis = 1)\n",
    "y = trainMerge['outcome']"
   ]
  },
  {
   "cell_type": "code",
   "execution_count": 116,
   "metadata": {
    "collapsed": true
   },
   "outputs": [],
   "source": [
    "#date 둘 다 뺀 set\n",
    "X = trainMerge.drop(['people_id','activity_id','date_x','date_y','outcome'],axis = 1)\n",
    "y = trainMerge['outcome']"
   ]
  },
  {
   "cell_type": "code",
   "execution_count": 228,
   "metadata": {
    "collapsed": true
   },
   "outputs": [],
   "source": [
    "#date x하나 넣은 set\n",
    "X = trainMerge.drop(['people_id','activity_id','date_y','outcome'],axis = 1)\n",
    "y = trainMerge['outcome']"
   ]
  },
  {
   "cell_type": "code",
   "execution_count": 9,
   "metadata": {
    "collapsed": true
   },
   "outputs": [],
   "source": [
    "#date y하나 넣은 set\n",
    "X = trainMerge.drop(['people_id','activity_id','date_x','outcome'],axis = 1)\n",
    "y = trainMerge['outcome']"
   ]
  },
  {
   "cell_type": "markdown",
   "metadata": {
    "collapsed": true
   },
   "source": [
    "## label encoding"
   ]
  },
  {
   "cell_type": "code",
   "execution_count": 115,
   "metadata": {
    "collapsed": true
   },
   "outputs": [],
   "source": [
    "from sklearn.preprocessing import LabelEncoder\n",
    "\n",
    "#LabelEncoder.fit(X,y)\n",
    "for idx in X.columns:\n",
    "    X[idx] = X[idx].fillna('type 0')\n",
    "    X[idx] = LabelEncoder().fit_transform(X[idx])"
   ]
  },
  {
   "cell_type": "markdown",
   "metadata": {},
   "source": [
    "## xgboost"
   ]
  },
  {
   "cell_type": "code",
   "execution_count": 175,
   "metadata": {
    "collapsed": true
   },
   "outputs": [],
   "source": [
    "X = trainMerge.drop(['people_id','activity_id','outcome'],axis = 1)\n",
    "y = trainMerge['outcome']"
   ]
  },
  {
   "cell_type": "code",
   "execution_count": 230,
   "metadata": {
    "collapsed": true
   },
   "outputs": [],
   "source": [
    "for idx in X.columns:\n",
    "    X[idx] = X[idx].fillna('type 0')\n",
    "    X[idx] = LabelEncoder().fit_transform(X[idx])"
   ]
  },
  {
   "cell_type": "code",
   "execution_count": 48,
   "metadata": {},
   "outputs": [
    {
     "name": "stderr",
     "output_type": "stream",
     "text": [
      "/Users/sanghyub/anaconda/lib/python3.6/site-packages/sklearn/cross_validation.py:44: DeprecationWarning: This module was deprecated in version 0.18 in favor of the model_selection module into which all the refactored classes and functions are moved. Also note that the interface of the new CV iterators are different from that of this module. This module will be removed in 0.20.\n",
      "  \"This module will be removed in 0.20.\", DeprecationWarning)\n"
     ]
    }
   ],
   "source": [
    "import xgboost"
   ]
  },
  {
   "cell_type": "code",
   "execution_count": 106,
   "metadata": {
    "collapsed": true
   },
   "outputs": [],
   "source": [
    "#date 둘다 뺀 set\n",
    "X = trainMerge.drop(['people_id','activity_id','date_x','date_y','outcome'],axis = 1)\n",
    "y = trainMerge['outcome']"
   ]
  },
  {
   "cell_type": "code",
   "execution_count": 130,
   "metadata": {
    "collapsed": true
   },
   "outputs": [],
   "source": [
    "X = trainMerge.drop(['people_id','activity_id','date','outcome'],axis = 1)\n",
    "y = trainMerge['outcome']"
   ]
  },
  {
   "cell_type": "code",
   "execution_count": 131,
   "metadata": {
    "scrolled": true
   },
   "outputs": [
    {
     "name": "stdout",
     "output_type": "stream",
     "text": [
      "<class 'pandas.core.frame.DataFrame'>\n",
      "Int64Index: 2197291 entries, 0 to 2197290\n",
      "Data columns (total 56 columns):\n",
      "activity_category    object\n",
      "char_1_x             object\n",
      "char_2_x             object\n",
      "char_3_x             object\n",
      "char_4_x             object\n",
      "char_5_x             object\n",
      "char_6_x             object\n",
      "char_7_x             object\n",
      "char_8_x             object\n",
      "char_9_x             object\n",
      "char_10_x            object\n",
      "year                 int64\n",
      "month                int64\n",
      "day                  int64\n",
      "char_1_y             object\n",
      "group_1              object\n",
      "char_2_y             object\n",
      "char_3_y             object\n",
      "char_4_y             object\n",
      "char_5_y             object\n",
      "char_6_y             object\n",
      "char_7_y             object\n",
      "char_8_y             object\n",
      "char_9_y             object\n",
      "char_10_y            int64\n",
      "char_11              int64\n",
      "char_12              int64\n",
      "char_13              int64\n",
      "char_14              int64\n",
      "char_15              int64\n",
      "char_16              int64\n",
      "char_17              int64\n",
      "char_18              int64\n",
      "char_19              int64\n",
      "char_20              int64\n",
      "char_21              int64\n",
      "char_22              int64\n",
      "char_23              int64\n",
      "char_24              int64\n",
      "char_25              int64\n",
      "char_26              int64\n",
      "char_27              int64\n",
      "char_28              int64\n",
      "char_29              int64\n",
      "char_30              int64\n",
      "char_31              int64\n",
      "char_32              int64\n",
      "char_33              int64\n",
      "char_34              int64\n",
      "char_35              int64\n",
      "char_36              int64\n",
      "char_37              int64\n",
      "char_38              int64\n",
      "year_p               int64\n",
      "month_p              int64\n",
      "day_p                int64\n",
      "dtypes: int64(35), object(21)\n",
      "memory usage: 1.0+ GB\n"
     ]
    }
   ],
   "source": [
    "X.info()"
   ]
  },
  {
   "cell_type": "code",
   "execution_count": 132,
   "metadata": {},
   "outputs": [
    {
     "name": "stdout",
     "output_type": "stream",
     "text": [
      "CPU times: user 6 µs, sys: 4 µs, total: 10 µs\n",
      "Wall time: 13.8 µs\n"
     ]
    }
   ],
   "source": [
    "model_xgb = xgboost.XGBClassifier(n_estimators=50, max_depth=2)\n",
    "%time\n",
    "Xx = model_xgb.fit(X_train,y_train)"
   ]
  },
  {
   "cell_type": "code",
   "execution_count": 133,
   "metadata": {},
   "outputs": [
    {
     "data": {
      "text/plain": [
       "'Mean accuracy of XgBooster : 0.8413640407865125'"
      ]
     },
     "execution_count": 133,
     "metadata": {},
     "output_type": "execute_result"
    }
   ],
   "source": [
    "score = Xx.score(X_test, y_test)\n",
    "\"Mean accuracy of XgBooster : {0}\".format(score)"
   ]
  },
  {
   "cell_type": "code",
   "execution_count": 134,
   "metadata": {
    "scrolled": true
   },
   "outputs": [
    {
     "name": "stdout",
     "output_type": "stream",
     "text": [
      "activity_category 0.0\n",
      "char_1_x 0.0\n",
      "char_2_x 0.0\n",
      "char_3_x 0.0\n",
      "char_4_x 0.0\n",
      "char_5_x 0.0\n",
      "char_6_x 0.0\n",
      "char_7_x 0.0\n",
      "char_8_x 0.0\n",
      "char_9_x 0.0\n",
      "char_10_x 0.0\n",
      "year 0.0\n",
      "month 0.0\n",
      "day 0.0\n",
      "char_1_y 0.04\n",
      "group_1 0.266667\n",
      "char_2_y 0.133333\n",
      "char_3_y 0.0133333\n",
      "char_4_y 0.0\n",
      "char_5_y 0.0\n",
      "char_6_y 0.12\n",
      "char_7_y 0.08\n",
      "char_8_y 0.0\n",
      "char_9_y 0.0\n",
      "char_10_y 0.0\n",
      "char_11 0.0\n",
      "char_12 0.0\n",
      "char_13 0.0\n",
      "char_14 0.0\n",
      "char_15 0.0\n",
      "char_16 0.0\n",
      "char_17 0.0\n",
      "char_18 0.0\n",
      "char_19 0.0\n",
      "char_20 0.0\n",
      "char_21 0.0\n",
      "char_22 0.0\n",
      "char_23 0.0\n",
      "char_24 0.0\n",
      "char_25 0.0\n",
      "char_26 0.0\n",
      "char_27 0.0\n",
      "char_28 0.0\n",
      "char_29 0.00666667\n",
      "char_30 0.00666667\n",
      "char_31 0.0\n",
      "char_32 0.0\n",
      "char_33 0.0\n",
      "char_34 0.0\n",
      "char_35 0.0\n",
      "char_36 0.0\n",
      "char_37 0.0\n",
      "char_38 0.333333\n",
      "year_p 0.0\n",
      "month_p 0.0\n",
      "day_p 0.0\n"
     ]
    }
   ],
   "source": [
    "#importance 확인\n",
    "for ix in range(len(X.columns)):\n",
    "    print (X.columns[ix], Xx.feature_importances_[ix])"
   ]
  },
  {
   "cell_type": "markdown",
   "metadata": {},
   "source": [
    "## 영향력이 컸었던 char_10,뿐 아니라, char1~10이 모두 0이 됨\n",
    "### people의 char_no의 영향력이 중요?"
   ]
  },
  {
   "cell_type": "markdown",
   "metadata": {},
   "source": [
    "# Logistic Regression"
   ]
  },
  {
   "cell_type": "code",
   "execution_count": 139,
   "metadata": {
    "collapsed": true,
    "scrolled": false
   },
   "outputs": [],
   "source": [
    "from sklearn.preprocessing import LabelEncoder\n",
    "\n",
    "#LabelEncoder.fit(X,y)\n",
    "for idx in X.columns:\n",
    "    X[idx] = X[idx].fillna('type 0')\n",
    "    X[idx] = LabelEncoder().fit_transform(X[idx])"
   ]
  },
  {
   "cell_type": "code",
   "execution_count": 112,
   "metadata": {},
   "outputs": [
    {
     "data": {
      "text/html": [
       "<div>\n",
       "<style>\n",
       "    .dataframe thead tr:only-child th {\n",
       "        text-align: right;\n",
       "    }\n",
       "\n",
       "    .dataframe thead th {\n",
       "        text-align: left;\n",
       "    }\n",
       "\n",
       "    .dataframe tbody tr th {\n",
       "        vertical-align: top;\n",
       "    }\n",
       "</style>\n",
       "<table border=\"1\" class=\"dataframe\">\n",
       "  <thead>\n",
       "    <tr style=\"text-align: right;\">\n",
       "      <th></th>\n",
       "      <th>date_x</th>\n",
       "      <th>activity_category</th>\n",
       "      <th>char_1_x</th>\n",
       "      <th>char_2_x</th>\n",
       "      <th>char_3_x</th>\n",
       "      <th>char_4_x</th>\n",
       "      <th>char_5_x</th>\n",
       "      <th>char_6_x</th>\n",
       "      <th>char_7_x</th>\n",
       "      <th>char_8_x</th>\n",
       "      <th>...</th>\n",
       "      <th>char_29</th>\n",
       "      <th>char_30</th>\n",
       "      <th>char_31</th>\n",
       "      <th>char_32</th>\n",
       "      <th>char_33</th>\n",
       "      <th>char_34</th>\n",
       "      <th>char_35</th>\n",
       "      <th>char_36</th>\n",
       "      <th>char_37</th>\n",
       "      <th>char_38</th>\n",
       "    </tr>\n",
       "  </thead>\n",
       "  <tbody>\n",
       "    <tr>\n",
       "      <th>2197286</th>\n",
       "      <td>334</td>\n",
       "      <td>3</td>\n",
       "      <td>0</td>\n",
       "      <td>0</td>\n",
       "      <td>0</td>\n",
       "      <td>0</td>\n",
       "      <td>0</td>\n",
       "      <td>0</td>\n",
       "      <td>0</td>\n",
       "      <td>0</td>\n",
       "      <td>...</td>\n",
       "      <td>1</td>\n",
       "      <td>1</td>\n",
       "      <td>1</td>\n",
       "      <td>1</td>\n",
       "      <td>0</td>\n",
       "      <td>1</td>\n",
       "      <td>1</td>\n",
       "      <td>1</td>\n",
       "      <td>1</td>\n",
       "      <td>95</td>\n",
       "    </tr>\n",
       "    <tr>\n",
       "      <th>2197287</th>\n",
       "      <td>256</td>\n",
       "      <td>3</td>\n",
       "      <td>0</td>\n",
       "      <td>0</td>\n",
       "      <td>0</td>\n",
       "      <td>0</td>\n",
       "      <td>0</td>\n",
       "      <td>0</td>\n",
       "      <td>0</td>\n",
       "      <td>0</td>\n",
       "      <td>...</td>\n",
       "      <td>1</td>\n",
       "      <td>1</td>\n",
       "      <td>1</td>\n",
       "      <td>1</td>\n",
       "      <td>0</td>\n",
       "      <td>1</td>\n",
       "      <td>1</td>\n",
       "      <td>1</td>\n",
       "      <td>1</td>\n",
       "      <td>95</td>\n",
       "    </tr>\n",
       "    <tr>\n",
       "      <th>2197288</th>\n",
       "      <td>186</td>\n",
       "      <td>1</td>\n",
       "      <td>0</td>\n",
       "      <td>0</td>\n",
       "      <td>0</td>\n",
       "      <td>0</td>\n",
       "      <td>0</td>\n",
       "      <td>0</td>\n",
       "      <td>0</td>\n",
       "      <td>0</td>\n",
       "      <td>...</td>\n",
       "      <td>1</td>\n",
       "      <td>1</td>\n",
       "      <td>1</td>\n",
       "      <td>1</td>\n",
       "      <td>0</td>\n",
       "      <td>1</td>\n",
       "      <td>1</td>\n",
       "      <td>1</td>\n",
       "      <td>1</td>\n",
       "      <td>95</td>\n",
       "    </tr>\n",
       "    <tr>\n",
       "      <th>2197289</th>\n",
       "      <td>289</td>\n",
       "      <td>3</td>\n",
       "      <td>0</td>\n",
       "      <td>0</td>\n",
       "      <td>0</td>\n",
       "      <td>0</td>\n",
       "      <td>0</td>\n",
       "      <td>0</td>\n",
       "      <td>0</td>\n",
       "      <td>0</td>\n",
       "      <td>...</td>\n",
       "      <td>1</td>\n",
       "      <td>1</td>\n",
       "      <td>1</td>\n",
       "      <td>1</td>\n",
       "      <td>0</td>\n",
       "      <td>1</td>\n",
       "      <td>1</td>\n",
       "      <td>1</td>\n",
       "      <td>1</td>\n",
       "      <td>95</td>\n",
       "    </tr>\n",
       "    <tr>\n",
       "      <th>2197290</th>\n",
       "      <td>333</td>\n",
       "      <td>1</td>\n",
       "      <td>0</td>\n",
       "      <td>0</td>\n",
       "      <td>0</td>\n",
       "      <td>0</td>\n",
       "      <td>0</td>\n",
       "      <td>0</td>\n",
       "      <td>0</td>\n",
       "      <td>0</td>\n",
       "      <td>...</td>\n",
       "      <td>1</td>\n",
       "      <td>1</td>\n",
       "      <td>1</td>\n",
       "      <td>1</td>\n",
       "      <td>0</td>\n",
       "      <td>1</td>\n",
       "      <td>1</td>\n",
       "      <td>1</td>\n",
       "      <td>1</td>\n",
       "      <td>95</td>\n",
       "    </tr>\n",
       "  </tbody>\n",
       "</table>\n",
       "<p>5 rows × 52 columns</p>\n",
       "</div>"
      ],
      "text/plain": [
       "         date_x  activity_category  char_1_x  char_2_x  char_3_x  char_4_x  \\\n",
       "2197286     334                  3         0         0         0         0   \n",
       "2197287     256                  3         0         0         0         0   \n",
       "2197288     186                  1         0         0         0         0   \n",
       "2197289     289                  3         0         0         0         0   \n",
       "2197290     333                  1         0         0         0         0   \n",
       "\n",
       "         char_5_x  char_6_x  char_7_x  char_8_x   ...     char_29  char_30  \\\n",
       "2197286         0         0         0         0   ...           1        1   \n",
       "2197287         0         0         0         0   ...           1        1   \n",
       "2197288         0         0         0         0   ...           1        1   \n",
       "2197289         0         0         0         0   ...           1        1   \n",
       "2197290         0         0         0         0   ...           1        1   \n",
       "\n",
       "         char_31  char_32  char_33  char_34  char_35  char_36  char_37  \\\n",
       "2197286        1        1        0        1        1        1        1   \n",
       "2197287        1        1        0        1        1        1        1   \n",
       "2197288        1        1        0        1        1        1        1   \n",
       "2197289        1        1        0        1        1        1        1   \n",
       "2197290        1        1        0        1        1        1        1   \n",
       "\n",
       "         char_38  \n",
       "2197286       95  \n",
       "2197287       95  \n",
       "2197288       95  \n",
       "2197289       95  \n",
       "2197290       95  \n",
       "\n",
       "[5 rows x 52 columns]"
      ]
     },
     "execution_count": 112,
     "metadata": {},
     "output_type": "execute_result"
    }
   ],
   "source": [
    "X.tail()"
   ]
  },
  {
   "cell_type": "code",
   "execution_count": 109,
   "metadata": {},
   "outputs": [
    {
     "data": {
      "text/plain": [
       "'Mean accuracy of Logistic Regression: 0.8341648875820271'"
      ]
     },
     "execution_count": 109,
     "metadata": {},
     "output_type": "execute_result"
    }
   ],
   "source": [
    "from sklearn.linear_model import LogisticRegression\n",
    "lr = LogisticRegression(max_iter=100)\n",
    "# Fit the model to our training data\n",
    "lr = lr.fit(X, y)\n",
    "score = lr.score(X, y)\n",
    "\"Mean accuracy of Logistic Regression: {0}\".format(score)"
   ]
  },
  {
   "cell_type": "markdown",
   "metadata": {},
   "source": [
    "# Decision Tree"
   ]
  },
  {
   "cell_type": "code",
   "execution_count": 135,
   "metadata": {
    "collapsed": true
   },
   "outputs": [],
   "source": [
    "from sklearn.tree import DecisionTreeClassifier\n",
    "from sklearn.model_selection import train_test_split"
   ]
  },
  {
   "cell_type": "code",
   "execution_count": 117,
   "metadata": {
    "collapsed": true
   },
   "outputs": [],
   "source": [
    "X_train, X_test, y_train, y_test = train_test_split(X, y, test_size=0.2, random_state=3)\n",
    "model_tree = DecisionTreeClassifier().fit(X_train, y_train)"
   ]
  },
  {
   "cell_type": "code",
   "execution_count": null,
   "metadata": {
    "collapsed": true
   },
   "outputs": [],
   "source": []
  },
  {
   "cell_type": "code",
   "execution_count": 136,
   "metadata": {},
   "outputs": [
    {
     "name": "stdout",
     "output_type": "stream",
     "text": [
      "[ 0.967779    0.96717562  0.96726665  0.96711836  0.96741418]\n"
     ]
    }
   ],
   "source": [
    "from sklearn.model_selection import cross_val_score\n",
    "\n",
    "scores=cross_val_score(model_tree, X_test, y_test, scoring=\"accuracy\", cv=5)\n",
    "print(scores)"
   ]
  },
  {
   "cell_type": "code",
   "execution_count": null,
   "metadata": {
    "collapsed": true
   },
   "outputs": [],
   "source": []
  },
  {
   "cell_type": "markdown",
   "metadata": {},
   "source": [
    "## Random Forest"
   ]
  },
  {
   "cell_type": "code",
   "execution_count": 72,
   "metadata": {
    "collapsed": true
   },
   "outputs": [],
   "source": [
    "from sklearn.model_selection import train_test_split"
   ]
  },
  {
   "cell_type": "code",
   "execution_count": 141,
   "metadata": {
    "collapsed": true,
    "scrolled": true
   },
   "outputs": [],
   "source": [
    "X_train, X_test, y_train, y_test = train_test_split(X, y, test_size=0.2, random_state=6)"
   ]
  },
  {
   "cell_type": "code",
   "execution_count": 142,
   "metadata": {},
   "outputs": [
    {
     "data": {
      "text/plain": [
       "ExtraTreesClassifier(bootstrap=False, class_weight=None, criterion='gini',\n",
       "           max_depth=None, max_features='auto', max_leaf_nodes=None,\n",
       "           min_impurity_split=1e-07, min_samples_leaf=1,\n",
       "           min_samples_split=2, min_weight_fraction_leaf=0.0,\n",
       "           n_estimators=100, n_jobs=1, oob_score=False, random_state=None,\n",
       "           verbose=0, warm_start=False)"
      ]
     },
     "execution_count": 142,
     "metadata": {},
     "output_type": "execute_result"
    }
   ],
   "source": [
    "from sklearn.ensemble import ExtraTreesClassifier\n",
    "\n",
    "model_forest = ExtraTreesClassifier(n_estimators=100)\n",
    "\n",
    "\n",
    "model_forest.fit(X_train,y_train)\n"
   ]
  },
  {
   "cell_type": "code",
   "execution_count": 143,
   "metadata": {},
   "outputs": [
    {
     "data": {
      "text/plain": [
       "'Mean accuracy of Random Forest: 0.9934214568367015'"
      ]
     },
     "execution_count": 143,
     "metadata": {},
     "output_type": "execute_result"
    }
   ],
   "source": [
    "score = model_forest.score(X_test, y_test)\n",
    "\"Mean accuracy of Random Forest: {0}\".format(score)"
   ]
  },
  {
   "cell_type": "markdown",
   "metadata": {
    "collapsed": true
   },
   "source": [
    "## Support Vector Machine"
   ]
  },
  {
   "cell_type": "code",
   "execution_count": null,
   "metadata": {
    "collapsed": true
   },
   "outputs": [],
   "source": [
    "from sklearn.svm import SVC\n",
    "svc_1 = SVC(C=0.3,kernel='rbf', gamma=20).fit(X_train, y_train)"
   ]
  },
  {
   "cell_type": "code",
   "execution_count": 14,
   "metadata": {
    "collapsed": true
   },
   "outputs": [],
   "source": [
    "X_train, X_test, y_train, y_test = train_test_split(X, y, test_size=0.2)"
   ]
  },
  {
   "cell_type": "code",
   "execution_count": null,
   "metadata": {
    "collapsed": true
   },
   "outputs": [],
   "source": [
    "score = svc_1.score(X_test,y_test)\n",
    "\n",
    "\"C=0.3, test size=0.2, Score is: {0}\".format(score)"
   ]
  },
  {
   "cell_type": "code",
   "execution_count": null,
   "metadata": {
    "collapsed": true
   },
   "outputs": [],
   "source": []
  },
  {
   "cell_type": "code",
   "execution_count": null,
   "metadata": {
    "collapsed": true
   },
   "outputs": [],
   "source": []
  },
  {
   "cell_type": "code",
   "execution_count": null,
   "metadata": {
    "collapsed": true
   },
   "outputs": [],
   "source": []
  },
  {
   "cell_type": "code",
   "execution_count": null,
   "metadata": {
    "collapsed": true
   },
   "outputs": [],
   "source": [
    "#date 둘 다 넣은 set\n",
    "testx = test_x.drop(['people_id','activity_id','outcome'],axis = 1)\n",
    "testy = testMerge['outcome']"
   ]
  },
  {
   "cell_type": "code",
   "execution_count": null,
   "metadata": {
    "collapsed": true
   },
   "outputs": [],
   "source": []
  },
  {
   "cell_type": "code",
   "execution_count": null,
   "metadata": {
    "collapsed": true
   },
   "outputs": [],
   "source": []
  },
  {
   "cell_type": "code",
   "execution_count": null,
   "metadata": {
    "collapsed": true
   },
   "outputs": [],
   "source": []
  },
  {
   "cell_type": "markdown",
   "metadata": {},
   "source": [
    "## making test set"
   ]
  },
  {
   "cell_type": "code",
   "execution_count": 144,
   "metadata": {
    "collapsed": true
   },
   "outputs": [],
   "source": [
    "testmerge = pd.merge(actions_test, people, on='people_id')"
   ]
  },
  {
   "cell_type": "code",
   "execution_count": 145,
   "metadata": {
    "collapsed": true
   },
   "outputs": [],
   "source": [
    "testmerge2 = pd.merge(actions_test, people, on='people_id')"
   ]
  },
  {
   "cell_type": "code",
   "execution_count": 146,
   "metadata": {},
   "outputs": [
    {
     "data": {
      "text/html": [
       "<div>\n",
       "<style>\n",
       "    .dataframe thead tr:only-child th {\n",
       "        text-align: right;\n",
       "    }\n",
       "\n",
       "    .dataframe thead th {\n",
       "        text-align: left;\n",
       "    }\n",
       "\n",
       "    .dataframe tbody tr th {\n",
       "        vertical-align: top;\n",
       "    }\n",
       "</style>\n",
       "<table border=\"1\" class=\"dataframe\">\n",
       "  <thead>\n",
       "    <tr style=\"text-align: right;\">\n",
       "      <th></th>\n",
       "      <th>people_id</th>\n",
       "      <th>activity_id</th>\n",
       "      <th>activity_category</th>\n",
       "      <th>char_1_x</th>\n",
       "      <th>char_2_x</th>\n",
       "      <th>char_3_x</th>\n",
       "      <th>char_4_x</th>\n",
       "      <th>char_5_x</th>\n",
       "      <th>char_6_x</th>\n",
       "      <th>char_7_x</th>\n",
       "      <th>...</th>\n",
       "      <th>char_32</th>\n",
       "      <th>char_33</th>\n",
       "      <th>char_34</th>\n",
       "      <th>char_35</th>\n",
       "      <th>char_36</th>\n",
       "      <th>char_37</th>\n",
       "      <th>char_38</th>\n",
       "      <th>year_p</th>\n",
       "      <th>month_p</th>\n",
       "      <th>day_p</th>\n",
       "    </tr>\n",
       "  </thead>\n",
       "  <tbody>\n",
       "    <tr>\n",
       "      <th>0</th>\n",
       "      <td>ppl_100004</td>\n",
       "      <td>act1_249281</td>\n",
       "      <td>type 1</td>\n",
       "      <td>type 5</td>\n",
       "      <td>type 10</td>\n",
       "      <td>type 5</td>\n",
       "      <td>type 1</td>\n",
       "      <td>type 6</td>\n",
       "      <td>type 1</td>\n",
       "      <td>type 1</td>\n",
       "      <td>...</td>\n",
       "      <td>1</td>\n",
       "      <td>1</td>\n",
       "      <td>1</td>\n",
       "      <td>1</td>\n",
       "      <td>1</td>\n",
       "      <td>1</td>\n",
       "      <td>76</td>\n",
       "      <td>2022</td>\n",
       "      <td>7</td>\n",
       "      <td>20</td>\n",
       "    </tr>\n",
       "    <tr>\n",
       "      <th>1</th>\n",
       "      <td>ppl_100004</td>\n",
       "      <td>act2_230855</td>\n",
       "      <td>type 5</td>\n",
       "      <td>NaN</td>\n",
       "      <td>NaN</td>\n",
       "      <td>NaN</td>\n",
       "      <td>NaN</td>\n",
       "      <td>NaN</td>\n",
       "      <td>NaN</td>\n",
       "      <td>NaN</td>\n",
       "      <td>...</td>\n",
       "      <td>1</td>\n",
       "      <td>1</td>\n",
       "      <td>1</td>\n",
       "      <td>1</td>\n",
       "      <td>1</td>\n",
       "      <td>1</td>\n",
       "      <td>76</td>\n",
       "      <td>2022</td>\n",
       "      <td>7</td>\n",
       "      <td>20</td>\n",
       "    </tr>\n",
       "    <tr>\n",
       "      <th>2</th>\n",
       "      <td>ppl_10001</td>\n",
       "      <td>act1_240724</td>\n",
       "      <td>type 1</td>\n",
       "      <td>type 12</td>\n",
       "      <td>type 1</td>\n",
       "      <td>type 5</td>\n",
       "      <td>type 4</td>\n",
       "      <td>type 6</td>\n",
       "      <td>type 1</td>\n",
       "      <td>type 1</td>\n",
       "      <td>...</td>\n",
       "      <td>1</td>\n",
       "      <td>1</td>\n",
       "      <td>1</td>\n",
       "      <td>1</td>\n",
       "      <td>1</td>\n",
       "      <td>1</td>\n",
       "      <td>90</td>\n",
       "      <td>2022</td>\n",
       "      <td>10</td>\n",
       "      <td>14</td>\n",
       "    </tr>\n",
       "  </tbody>\n",
       "</table>\n",
       "<p>3 rows × 59 columns</p>\n",
       "</div>"
      ],
      "text/plain": [
       "    people_id  activity_id activity_category char_1_x char_2_x char_3_x  \\\n",
       "0  ppl_100004  act1_249281            type 1   type 5  type 10   type 5   \n",
       "1  ppl_100004  act2_230855            type 5      NaN      NaN      NaN   \n",
       "2   ppl_10001  act1_240724            type 1  type 12   type 1   type 5   \n",
       "\n",
       "  char_4_x char_5_x char_6_x char_7_x  ...  char_32 char_33 char_34  char_35  \\\n",
       "0   type 1   type 6   type 1   type 1  ...        1       1       1        1   \n",
       "1      NaN      NaN      NaN      NaN  ...        1       1       1        1   \n",
       "2   type 4   type 6   type 1   type 1  ...        1       1       1        1   \n",
       "\n",
       "   char_36  char_37 char_38 year_p month_p day_p  \n",
       "0        1        1      76   2022       7    20  \n",
       "1        1        1      76   2022       7    20  \n",
       "2        1        1      90   2022      10    14  \n",
       "\n",
       "[3 rows x 59 columns]"
      ]
     },
     "execution_count": 146,
     "metadata": {},
     "output_type": "execute_result"
    }
   ],
   "source": [
    "testmerge.head(3)"
   ]
  },
  {
   "cell_type": "code",
   "execution_count": 91,
   "metadata": {
    "scrolled": true
   },
   "outputs": [
    {
     "name": "stdout",
     "output_type": "stream",
     "text": [
      "<class 'pandas.core.frame.DataFrame'>\n",
      "Int64Index: 498687 entries, 0 to 498686\n",
      "Data columns (total 55 columns):\n",
      "people_id            498687 non-null object\n",
      "activity_category    498687 non-null object\n",
      "char_1_x             40092 non-null object\n",
      "char_2_x             40092 non-null object\n",
      "char_3_x             40092 non-null object\n",
      "char_4_x             40092 non-null object\n",
      "char_5_x             40092 non-null object\n",
      "char_6_x             40092 non-null object\n",
      "char_7_x             40092 non-null object\n",
      "char_8_x             40092 non-null object\n",
      "char_9_x             40092 non-null object\n",
      "char_10_x            458595 non-null object\n",
      "year                 498687 non-null int64\n",
      "month                498687 non-null int64\n",
      "day                  498687 non-null int64\n",
      "char_1_y             498687 non-null object\n",
      "group_1              498687 non-null object\n",
      "char_2_y             498687 non-null object\n",
      "date                 498687 non-null object\n",
      "char_3_y             498687 non-null object\n",
      "char_4_y             498687 non-null object\n",
      "char_5_y             498687 non-null object\n",
      "char_6_y             498687 non-null object\n",
      "char_7_y             498687 non-null object\n",
      "char_8_y             498687 non-null object\n",
      "char_9_y             498687 non-null object\n",
      "char_10_y            498687 non-null bool\n",
      "char_11              498687 non-null bool\n",
      "char_12              498687 non-null bool\n",
      "char_13              498687 non-null bool\n",
      "char_14              498687 non-null bool\n",
      "char_15              498687 non-null bool\n",
      "char_16              498687 non-null bool\n",
      "char_17              498687 non-null bool\n",
      "char_18              498687 non-null bool\n",
      "char_19              498687 non-null bool\n",
      "char_20              498687 non-null bool\n",
      "char_21              498687 non-null bool\n",
      "char_22              498687 non-null bool\n",
      "char_23              498687 non-null bool\n",
      "char_24              498687 non-null bool\n",
      "char_25              498687 non-null bool\n",
      "char_26              498687 non-null bool\n",
      "char_27              498687 non-null bool\n",
      "char_28              498687 non-null bool\n",
      "char_29              498687 non-null bool\n",
      "char_30              498687 non-null bool\n",
      "char_31              498687 non-null bool\n",
      "char_32              498687 non-null bool\n",
      "char_33              498687 non-null bool\n",
      "char_34              498687 non-null bool\n",
      "char_35              498687 non-null bool\n",
      "char_36              498687 non-null bool\n",
      "char_37              498687 non-null bool\n",
      "char_38              498687 non-null int64\n",
      "dtypes: bool(28), int64(4), object(23)\n",
      "memory usage: 119.8+ MB\n"
     ]
    }
   ],
   "source": [
    "testmerge.info()"
   ]
  },
  {
   "cell_type": "code",
   "execution_count": 147,
   "metadata": {
    "collapsed": true
   },
   "outputs": [],
   "source": [
    "for idx in testmerge:\n",
    "    testmerge[idx] = testmerge[idx].fillna('type 0')\n",
    "    testmerge[idx] = LabelEncoder().fit_transform(testmerge[idx])"
   ]
  },
  {
   "cell_type": "code",
   "execution_count": 158,
   "metadata": {
    "collapsed": true
   },
   "outputs": [],
   "source": [
    "Xtest = testmerge.drop(['people_id','activity_id','date'],axis = 1)\n"
   ]
  },
  {
   "cell_type": "code",
   "execution_count": 157,
   "metadata": {
    "scrolled": true
   },
   "outputs": [
    {
     "name": "stdout",
     "output_type": "stream",
     "text": [
      "<class 'pandas.core.frame.DataFrame'>\n",
      "Int64Index: 498687 entries, 0 to 498686\n",
      "Data columns (total 57 columns):\n",
      "activity_category    498687 non-null int64\n",
      "char_1_x             498687 non-null int64\n",
      "char_2_x             498687 non-null int64\n",
      "char_3_x             498687 non-null int64\n",
      "char_4_x             498687 non-null int64\n",
      "char_5_x             498687 non-null int64\n",
      "char_6_x             498687 non-null int64\n",
      "char_7_x             498687 non-null int64\n",
      "char_8_x             498687 non-null int64\n",
      "char_9_x             498687 non-null int64\n",
      "char_10_x            498687 non-null int64\n",
      "year                 498687 non-null int64\n",
      "month                498687 non-null int64\n",
      "day                  498687 non-null int64\n",
      "char_1_y             498687 non-null int64\n",
      "group_1              498687 non-null int64\n",
      "char_2_y             498687 non-null int64\n",
      "date                 498687 non-null int64\n",
      "char_3_y             498687 non-null int64\n",
      "char_4_y             498687 non-null int64\n",
      "char_5_y             498687 non-null int64\n",
      "char_6_y             498687 non-null int64\n",
      "char_7_y             498687 non-null int64\n",
      "char_8_y             498687 non-null int64\n",
      "char_9_y             498687 non-null int64\n",
      "char_10_y            498687 non-null int64\n",
      "char_11              498687 non-null int64\n",
      "char_12              498687 non-null int64\n",
      "char_13              498687 non-null int64\n",
      "char_14              498687 non-null int64\n",
      "char_15              498687 non-null int64\n",
      "char_16              498687 non-null int64\n",
      "char_17              498687 non-null int64\n",
      "char_18              498687 non-null int64\n",
      "char_19              498687 non-null int64\n",
      "char_20              498687 non-null int64\n",
      "char_21              498687 non-null int64\n",
      "char_22              498687 non-null int64\n",
      "char_23              498687 non-null int64\n",
      "char_24              498687 non-null int64\n",
      "char_25              498687 non-null int64\n",
      "char_26              498687 non-null int64\n",
      "char_27              498687 non-null int64\n",
      "char_28              498687 non-null int64\n",
      "char_29              498687 non-null int64\n",
      "char_30              498687 non-null int64\n",
      "char_31              498687 non-null int64\n",
      "char_32              498687 non-null int64\n",
      "char_33              498687 non-null int64\n",
      "char_34              498687 non-null int64\n",
      "char_35              498687 non-null int64\n",
      "char_36              498687 non-null int64\n",
      "char_37              498687 non-null int64\n",
      "char_38              498687 non-null int64\n",
      "year_p               498687 non-null int64\n",
      "month_p              498687 non-null int64\n",
      "day_p                498687 non-null int64\n",
      "dtypes: int64(57)\n",
      "memory usage: 220.7 MB\n"
     ]
    }
   ],
   "source": [
    "Xtest.info()"
   ]
  },
  {
   "cell_type": "code",
   "execution_count": 159,
   "metadata": {
    "collapsed": true
   },
   "outputs": [],
   "source": [
    "test_result_y = model_forest.predict(Xtest)"
   ]
  },
  {
   "cell_type": "code",
   "execution_count": 155,
   "metadata": {},
   "outputs": [
    {
     "data": {
      "text/plain": [
       "array([1, 1, 1, ..., 0, 0, 0])"
      ]
     },
     "execution_count": 155,
     "metadata": {},
     "output_type": "execute_result"
    }
   ],
   "source": [
    "test_result_y"
   ]
  },
  {
   "cell_type": "code",
   "execution_count": 129,
   "metadata": {
    "collapsed": true,
    "scrolled": true
   },
   "outputs": [],
   "source": [
    "test_result_y = test_result_y.transpose"
   ]
  },
  {
   "cell_type": "code",
   "execution_count": 134,
   "metadata": {
    "scrolled": true
   },
   "outputs": [
    {
     "data": {
      "text/plain": [
       "<function ndarray.transpose>"
      ]
     },
     "execution_count": 134,
     "metadata": {},
     "output_type": "execute_result"
    }
   ],
   "source": [
    "test_result_y"
   ]
  },
  {
   "cell_type": "code",
   "execution_count": 46,
   "metadata": {},
   "outputs": [
    {
     "data": {
      "text/plain": [
       "pandas.core.frame.DataFrame"
      ]
     },
     "execution_count": 46,
     "metadata": {},
     "output_type": "execute_result"
    }
   ],
   "source": [
    "type(testmerge)"
   ]
  },
  {
   "cell_type": "code",
   "execution_count": null,
   "metadata": {
    "collapsed": true
   },
   "outputs": [],
   "source": []
  },
  {
   "cell_type": "code",
   "execution_count": null,
   "metadata": {
    "collapsed": true
   },
   "outputs": [],
   "source": []
  },
  {
   "cell_type": "code",
   "execution_count": 160,
   "metadata": {
    "collapsed": true,
    "scrolled": true
   },
   "outputs": [],
   "source": [
    "activity_test = pd.concat([testmerge2['activity_id'],pd.Series(test_result_y)], axis =1 )"
   ]
  },
  {
   "cell_type": "code",
   "execution_count": 157,
   "metadata": {
    "scrolled": true
   },
   "outputs": [
    {
     "data": {
      "text/html": [
       "<div>\n",
       "<style>\n",
       "    .dataframe thead tr:only-child th {\n",
       "        text-align: right;\n",
       "    }\n",
       "\n",
       "    .dataframe thead th {\n",
       "        text-align: left;\n",
       "    }\n",
       "\n",
       "    .dataframe tbody tr th {\n",
       "        vertical-align: top;\n",
       "    }\n",
       "</style>\n",
       "<table border=\"1\" class=\"dataframe\">\n",
       "  <thead>\n",
       "    <tr style=\"text-align: right;\">\n",
       "      <th></th>\n",
       "      <th>activity_id</th>\n",
       "      <th>0</th>\n",
       "    </tr>\n",
       "  </thead>\n",
       "  <tbody>\n",
       "    <tr>\n",
       "      <th>0</th>\n",
       "      <td>act1_249281</td>\n",
       "      <td>1</td>\n",
       "    </tr>\n",
       "    <tr>\n",
       "      <th>1</th>\n",
       "      <td>act2_230855</td>\n",
       "      <td>1</td>\n",
       "    </tr>\n",
       "    <tr>\n",
       "      <th>2</th>\n",
       "      <td>act1_240724</td>\n",
       "      <td>1</td>\n",
       "    </tr>\n",
       "  </tbody>\n",
       "</table>\n",
       "</div>"
      ],
      "text/plain": [
       "   activity_id  0\n",
       "0  act1_249281  1\n",
       "1  act2_230855  1\n",
       "2  act1_240724  1"
      ]
     },
     "execution_count": 157,
     "metadata": {},
     "output_type": "execute_result"
    }
   ],
   "source": [
    "activity_test.head(3)"
   ]
  },
  {
   "cell_type": "code",
   "execution_count": 161,
   "metadata": {
    "collapsed": true
   },
   "outputs": [],
   "source": [
    "activity_test.columns.values[1] = \"outcome\""
   ]
  },
  {
   "cell_type": "code",
   "execution_count": 22,
   "metadata": {
    "collapsed": true,
    "scrolled": true
   },
   "outputs": [],
   "source": [
    "activity_test = pd.concat([testmerge2['activity_id'],pd.Series(test_result_y)], axis =1 )"
   ]
  },
  {
   "cell_type": "code",
   "execution_count": 162,
   "metadata": {
    "scrolled": true
   },
   "outputs": [
    {
     "data": {
      "text/html": [
       "<div>\n",
       "<style>\n",
       "    .dataframe thead tr:only-child th {\n",
       "        text-align: right;\n",
       "    }\n",
       "\n",
       "    .dataframe thead th {\n",
       "        text-align: left;\n",
       "    }\n",
       "\n",
       "    .dataframe tbody tr th {\n",
       "        vertical-align: top;\n",
       "    }\n",
       "</style>\n",
       "<table border=\"1\" class=\"dataframe\">\n",
       "  <thead>\n",
       "    <tr style=\"text-align: right;\">\n",
       "      <th></th>\n",
       "      <th>activity_id</th>\n",
       "      <th>outcome</th>\n",
       "    </tr>\n",
       "  </thead>\n",
       "  <tbody>\n",
       "    <tr>\n",
       "      <th>0</th>\n",
       "      <td>act1_249281</td>\n",
       "      <td>0</td>\n",
       "    </tr>\n",
       "    <tr>\n",
       "      <th>1</th>\n",
       "      <td>act2_230855</td>\n",
       "      <td>0</td>\n",
       "    </tr>\n",
       "    <tr>\n",
       "      <th>2</th>\n",
       "      <td>act1_240724</td>\n",
       "      <td>1</td>\n",
       "    </tr>\n",
       "    <tr>\n",
       "      <th>3</th>\n",
       "      <td>act1_83552</td>\n",
       "      <td>1</td>\n",
       "    </tr>\n",
       "    <tr>\n",
       "      <th>4</th>\n",
       "      <td>act2_1043301</td>\n",
       "      <td>1</td>\n",
       "    </tr>\n",
       "    <tr>\n",
       "      <th>5</th>\n",
       "      <td>act2_112890</td>\n",
       "      <td>1</td>\n",
       "    </tr>\n",
       "    <tr>\n",
       "      <th>6</th>\n",
       "      <td>act2_1169930</td>\n",
       "      <td>1</td>\n",
       "    </tr>\n",
       "    <tr>\n",
       "      <th>7</th>\n",
       "      <td>act2_1924448</td>\n",
       "      <td>1</td>\n",
       "    </tr>\n",
       "    <tr>\n",
       "      <th>8</th>\n",
       "      <td>act2_1953554</td>\n",
       "      <td>1</td>\n",
       "    </tr>\n",
       "    <tr>\n",
       "      <th>9</th>\n",
       "      <td>act2_1971739</td>\n",
       "      <td>1</td>\n",
       "    </tr>\n",
       "    <tr>\n",
       "      <th>10</th>\n",
       "      <td>act2_2839282</td>\n",
       "      <td>1</td>\n",
       "    </tr>\n",
       "    <tr>\n",
       "      <th>11</th>\n",
       "      <td>act2_2889351</td>\n",
       "      <td>1</td>\n",
       "    </tr>\n",
       "    <tr>\n",
       "      <th>12</th>\n",
       "      <td>act2_3238933</td>\n",
       "      <td>1</td>\n",
       "    </tr>\n",
       "    <tr>\n",
       "      <th>13</th>\n",
       "      <td>act2_3384798</td>\n",
       "      <td>1</td>\n",
       "    </tr>\n",
       "    <tr>\n",
       "      <th>14</th>\n",
       "      <td>act2_3701358</td>\n",
       "      <td>1</td>\n",
       "    </tr>\n",
       "    <tr>\n",
       "      <th>15</th>\n",
       "      <td>act2_3715695</td>\n",
       "      <td>1</td>\n",
       "    </tr>\n",
       "    <tr>\n",
       "      <th>16</th>\n",
       "      <td>act2_3734085</td>\n",
       "      <td>1</td>\n",
       "    </tr>\n",
       "    <tr>\n",
       "      <th>17</th>\n",
       "      <td>act2_3961391</td>\n",
       "      <td>1</td>\n",
       "    </tr>\n",
       "    <tr>\n",
       "      <th>18</th>\n",
       "      <td>act2_4167474</td>\n",
       "      <td>1</td>\n",
       "    </tr>\n",
       "    <tr>\n",
       "      <th>19</th>\n",
       "      <td>act2_4397847</td>\n",
       "      <td>1</td>\n",
       "    </tr>\n",
       "    <tr>\n",
       "      <th>20</th>\n",
       "      <td>act2_4649285</td>\n",
       "      <td>1</td>\n",
       "    </tr>\n",
       "    <tr>\n",
       "      <th>21</th>\n",
       "      <td>act2_538607</td>\n",
       "      <td>1</td>\n",
       "    </tr>\n",
       "    <tr>\n",
       "      <th>22</th>\n",
       "      <td>act2_584216</td>\n",
       "      <td>1</td>\n",
       "    </tr>\n",
       "    <tr>\n",
       "      <th>23</th>\n",
       "      <td>act2_596561</td>\n",
       "      <td>1</td>\n",
       "    </tr>\n",
       "    <tr>\n",
       "      <th>24</th>\n",
       "      <td>act2_649143</td>\n",
       "      <td>1</td>\n",
       "    </tr>\n",
       "    <tr>\n",
       "      <th>25</th>\n",
       "      <td>act2_659237</td>\n",
       "      <td>1</td>\n",
       "    </tr>\n",
       "    <tr>\n",
       "      <th>26</th>\n",
       "      <td>act2_688604</td>\n",
       "      <td>1</td>\n",
       "    </tr>\n",
       "    <tr>\n",
       "      <th>27</th>\n",
       "      <td>act1_218751</td>\n",
       "      <td>0</td>\n",
       "    </tr>\n",
       "    <tr>\n",
       "      <th>28</th>\n",
       "      <td>act1_383524</td>\n",
       "      <td>0</td>\n",
       "    </tr>\n",
       "    <tr>\n",
       "      <th>29</th>\n",
       "      <td>act2_3973689</td>\n",
       "      <td>0</td>\n",
       "    </tr>\n",
       "    <tr>\n",
       "      <th>...</th>\n",
       "      <td>...</td>\n",
       "      <td>...</td>\n",
       "    </tr>\n",
       "    <tr>\n",
       "      <th>498657</th>\n",
       "      <td>act2_3146168</td>\n",
       "      <td>1</td>\n",
       "    </tr>\n",
       "    <tr>\n",
       "      <th>498658</th>\n",
       "      <td>act2_3435600</td>\n",
       "      <td>1</td>\n",
       "    </tr>\n",
       "    <tr>\n",
       "      <th>498659</th>\n",
       "      <td>act2_3648161</td>\n",
       "      <td>1</td>\n",
       "    </tr>\n",
       "    <tr>\n",
       "      <th>498660</th>\n",
       "      <td>act2_4609368</td>\n",
       "      <td>1</td>\n",
       "    </tr>\n",
       "    <tr>\n",
       "      <th>498661</th>\n",
       "      <td>act2_488594</td>\n",
       "      <td>1</td>\n",
       "    </tr>\n",
       "    <tr>\n",
       "      <th>498662</th>\n",
       "      <td>act2_568974</td>\n",
       "      <td>1</td>\n",
       "    </tr>\n",
       "    <tr>\n",
       "      <th>498663</th>\n",
       "      <td>act1_187412</td>\n",
       "      <td>1</td>\n",
       "    </tr>\n",
       "    <tr>\n",
       "      <th>498664</th>\n",
       "      <td>act2_1907199</td>\n",
       "      <td>1</td>\n",
       "    </tr>\n",
       "    <tr>\n",
       "      <th>498665</th>\n",
       "      <td>act2_3825329</td>\n",
       "      <td>1</td>\n",
       "    </tr>\n",
       "    <tr>\n",
       "      <th>498666</th>\n",
       "      <td>act2_4540493</td>\n",
       "      <td>1</td>\n",
       "    </tr>\n",
       "    <tr>\n",
       "      <th>498667</th>\n",
       "      <td>act2_4716058</td>\n",
       "      <td>1</td>\n",
       "    </tr>\n",
       "    <tr>\n",
       "      <th>498668</th>\n",
       "      <td>act2_1374659</td>\n",
       "      <td>0</td>\n",
       "    </tr>\n",
       "    <tr>\n",
       "      <th>498669</th>\n",
       "      <td>act2_4191036</td>\n",
       "      <td>0</td>\n",
       "    </tr>\n",
       "    <tr>\n",
       "      <th>498670</th>\n",
       "      <td>act2_1893941</td>\n",
       "      <td>0</td>\n",
       "    </tr>\n",
       "    <tr>\n",
       "      <th>498671</th>\n",
       "      <td>act2_2245699</td>\n",
       "      <td>0</td>\n",
       "    </tr>\n",
       "    <tr>\n",
       "      <th>498672</th>\n",
       "      <td>act2_2316472</td>\n",
       "      <td>0</td>\n",
       "    </tr>\n",
       "    <tr>\n",
       "      <th>498673</th>\n",
       "      <td>act2_2372813</td>\n",
       "      <td>0</td>\n",
       "    </tr>\n",
       "    <tr>\n",
       "      <th>498674</th>\n",
       "      <td>act2_2433185</td>\n",
       "      <td>0</td>\n",
       "    </tr>\n",
       "    <tr>\n",
       "      <th>498675</th>\n",
       "      <td>act2_2576346</td>\n",
       "      <td>0</td>\n",
       "    </tr>\n",
       "    <tr>\n",
       "      <th>498676</th>\n",
       "      <td>act2_2718841</td>\n",
       "      <td>0</td>\n",
       "    </tr>\n",
       "    <tr>\n",
       "      <th>498677</th>\n",
       "      <td>act2_2902742</td>\n",
       "      <td>0</td>\n",
       "    </tr>\n",
       "    <tr>\n",
       "      <th>498678</th>\n",
       "      <td>act2_3448131</td>\n",
       "      <td>0</td>\n",
       "    </tr>\n",
       "    <tr>\n",
       "      <th>498679</th>\n",
       "      <td>act2_3757705</td>\n",
       "      <td>0</td>\n",
       "    </tr>\n",
       "    <tr>\n",
       "      <th>498680</th>\n",
       "      <td>act2_4149173</td>\n",
       "      <td>0</td>\n",
       "    </tr>\n",
       "    <tr>\n",
       "      <th>498681</th>\n",
       "      <td>act2_4355610</td>\n",
       "      <td>0</td>\n",
       "    </tr>\n",
       "    <tr>\n",
       "      <th>498682</th>\n",
       "      <td>act2_4367092</td>\n",
       "      <td>0</td>\n",
       "    </tr>\n",
       "    <tr>\n",
       "      <th>498683</th>\n",
       "      <td>act2_4404220</td>\n",
       "      <td>0</td>\n",
       "    </tr>\n",
       "    <tr>\n",
       "      <th>498684</th>\n",
       "      <td>act2_448830</td>\n",
       "      <td>0</td>\n",
       "    </tr>\n",
       "    <tr>\n",
       "      <th>498685</th>\n",
       "      <td>act2_450133</td>\n",
       "      <td>0</td>\n",
       "    </tr>\n",
       "    <tr>\n",
       "      <th>498686</th>\n",
       "      <td>act2_847967</td>\n",
       "      <td>0</td>\n",
       "    </tr>\n",
       "  </tbody>\n",
       "</table>\n",
       "<p>498687 rows × 2 columns</p>\n",
       "</div>"
      ],
      "text/plain": [
       "         activity_id  outcome\n",
       "0        act1_249281        0\n",
       "1        act2_230855        0\n",
       "2        act1_240724        1\n",
       "3         act1_83552        1\n",
       "4       act2_1043301        1\n",
       "5        act2_112890        1\n",
       "6       act2_1169930        1\n",
       "7       act2_1924448        1\n",
       "8       act2_1953554        1\n",
       "9       act2_1971739        1\n",
       "10      act2_2839282        1\n",
       "11      act2_2889351        1\n",
       "12      act2_3238933        1\n",
       "13      act2_3384798        1\n",
       "14      act2_3701358        1\n",
       "15      act2_3715695        1\n",
       "16      act2_3734085        1\n",
       "17      act2_3961391        1\n",
       "18      act2_4167474        1\n",
       "19      act2_4397847        1\n",
       "20      act2_4649285        1\n",
       "21       act2_538607        1\n",
       "22       act2_584216        1\n",
       "23       act2_596561        1\n",
       "24       act2_649143        1\n",
       "25       act2_659237        1\n",
       "26       act2_688604        1\n",
       "27       act1_218751        0\n",
       "28       act1_383524        0\n",
       "29      act2_3973689        0\n",
       "...              ...      ...\n",
       "498657  act2_3146168        1\n",
       "498658  act2_3435600        1\n",
       "498659  act2_3648161        1\n",
       "498660  act2_4609368        1\n",
       "498661   act2_488594        1\n",
       "498662   act2_568974        1\n",
       "498663   act1_187412        1\n",
       "498664  act2_1907199        1\n",
       "498665  act2_3825329        1\n",
       "498666  act2_4540493        1\n",
       "498667  act2_4716058        1\n",
       "498668  act2_1374659        0\n",
       "498669  act2_4191036        0\n",
       "498670  act2_1893941        0\n",
       "498671  act2_2245699        0\n",
       "498672  act2_2316472        0\n",
       "498673  act2_2372813        0\n",
       "498674  act2_2433185        0\n",
       "498675  act2_2576346        0\n",
       "498676  act2_2718841        0\n",
       "498677  act2_2902742        0\n",
       "498678  act2_3448131        0\n",
       "498679  act2_3757705        0\n",
       "498680  act2_4149173        0\n",
       "498681  act2_4355610        0\n",
       "498682  act2_4367092        0\n",
       "498683  act2_4404220        0\n",
       "498684   act2_448830        0\n",
       "498685   act2_450133        0\n",
       "498686   act2_847967        0\n",
       "\n",
       "[498687 rows x 2 columns]"
      ]
     },
     "execution_count": 162,
     "metadata": {},
     "output_type": "execute_result"
    }
   ],
   "source": [
    "activity_test"
   ]
  },
  {
   "cell_type": "code",
   "execution_count": null,
   "metadata": {
    "collapsed": true
   },
   "outputs": [],
   "source": []
  },
  {
   "cell_type": "code",
   "execution_count": null,
   "metadata": {
    "collapsed": true
   },
   "outputs": [],
   "source": []
  },
  {
   "cell_type": "code",
   "execution_count": null,
   "metadata": {
    "collapsed": true
   },
   "outputs": [],
   "source": []
  },
  {
   "cell_type": "code",
   "execution_count": 163,
   "metadata": {
    "collapsed": true
   },
   "outputs": [],
   "source": [
    "activity_test.to_csv('submission_action.csv', index=False)"
   ]
  },
  {
   "cell_type": "markdown",
   "metadata": {},
   "source": [
    "### voting classifier"
   ]
  },
  {
   "cell_type": "code",
   "execution_count": null,
   "metadata": {
    "collapsed": true
   },
   "outputs": [],
   "source": []
  },
  {
   "cell_type": "code",
   "execution_count": null,
   "metadata": {
    "collapsed": true
   },
   "outputs": [],
   "source": []
  },
  {
   "cell_type": "markdown",
   "metadata": {},
   "source": [
    "## ROC_Curve\n"
   ]
  },
  {
   "cell_type": "code",
   "execution_count": 237,
   "metadata": {},
   "outputs": [
    {
     "data": {
      "text/plain": [
       "'Mean accuracy of Random Forest cv: 0.9843750711103223'"
      ]
     },
     "execution_count": 237,
     "metadata": {},
     "output_type": "execute_result"
    }
   ],
   "source": [
    "score = model_forest.score(X_train, y_train)\n",
    "\"Mean accuracy of Random Forest cv: {0}\".format(score)"
   ]
  },
  {
   "cell_type": "code",
   "execution_count": 239,
   "metadata": {
    "collapsed": true
   },
   "outputs": [],
   "source": [
    "from sklearn.metrics import roc_curve, auc , roc_auc_score, accuracy_score"
   ]
  },
  {
   "cell_type": "code",
   "execution_count": null,
   "metadata": {
    "collapsed": true
   },
   "outputs": [],
   "source": []
  },
  {
   "cell_type": "code",
   "execution_count": 249,
   "metadata": {},
   "outputs": [
    {
     "ename": "ValueError",
     "evalue": "bad input shape (2197291, 2)",
     "output_type": "error",
     "traceback": [
      "\u001b[0;31m---------------------------------------------------------------------------\u001b[0m",
      "\u001b[0;31mValueError\u001b[0m                                Traceback (most recent call last)",
      "\u001b[0;32m<ipython-input-249-aabe3fed2789>\u001b[0m in \u001b[0;36m<module>\u001b[0;34m()\u001b[0m\n\u001b[1;32m      1\u001b[0m \u001b[0;31m# Determine the false positive and true positive rates\u001b[0m\u001b[0;34m\u001b[0m\u001b[0;34m\u001b[0m\u001b[0m\n\u001b[0;32m----> 2\u001b[0;31m \u001b[0mfpr\u001b[0m\u001b[0;34m,\u001b[0m \u001b[0mtpr\u001b[0m\u001b[0;34m,\u001b[0m \u001b[0m_\u001b[0m \u001b[0;34m=\u001b[0m \u001b[0mroc_curve\u001b[0m\u001b[0;34m(\u001b[0m\u001b[0my\u001b[0m\u001b[0;34m,\u001b[0m \u001b[0mmodel_tree\u001b[0m\u001b[0;34m.\u001b[0m\u001b[0mpredict_proba\u001b[0m\u001b[0;34m(\u001b[0m\u001b[0mX\u001b[0m\u001b[0;34m)\u001b[0m\u001b[0;34m)\u001b[0m\u001b[0;34m\u001b[0m\u001b[0m\n\u001b[0m\u001b[1;32m      3\u001b[0m \u001b[0;34m\u001b[0m\u001b[0m\n\u001b[1;32m      4\u001b[0m \u001b[0;31m# Calculate the AUC\u001b[0m\u001b[0;34m\u001b[0m\u001b[0;34m\u001b[0m\u001b[0m\n\u001b[1;32m      5\u001b[0m \u001b[0mroc_auc\u001b[0m \u001b[0;34m=\u001b[0m \u001b[0mauc\u001b[0m\u001b[0;34m(\u001b[0m\u001b[0mfpr\u001b[0m\u001b[0;34m,\u001b[0m \u001b[0mtpr\u001b[0m\u001b[0;34m)\u001b[0m\u001b[0;34m\u001b[0m\u001b[0m\n",
      "\u001b[0;32m/Users/sanghyub/anaconda/lib/python3.6/site-packages/sklearn/metrics/ranking.py\u001b[0m in \u001b[0;36mroc_curve\u001b[0;34m(y_true, y_score, pos_label, sample_weight, drop_intermediate)\u001b[0m\n\u001b[1;32m    503\u001b[0m     \"\"\"\n\u001b[1;32m    504\u001b[0m     fps, tps, thresholds = _binary_clf_curve(\n\u001b[0;32m--> 505\u001b[0;31m         y_true, y_score, pos_label=pos_label, sample_weight=sample_weight)\n\u001b[0m\u001b[1;32m    506\u001b[0m \u001b[0;34m\u001b[0m\u001b[0m\n\u001b[1;32m    507\u001b[0m     \u001b[0;31m# Attempt to drop thresholds corresponding to points in between and\u001b[0m\u001b[0;34m\u001b[0m\u001b[0;34m\u001b[0m\u001b[0m\n",
      "\u001b[0;32m/Users/sanghyub/anaconda/lib/python3.6/site-packages/sklearn/metrics/ranking.py\u001b[0m in \u001b[0;36m_binary_clf_curve\u001b[0;34m(y_true, y_score, pos_label, sample_weight)\u001b[0m\n\u001b[1;32m    297\u001b[0m     \u001b[0mcheck_consistent_length\u001b[0m\u001b[0;34m(\u001b[0m\u001b[0my_true\u001b[0m\u001b[0;34m,\u001b[0m \u001b[0my_score\u001b[0m\u001b[0;34m)\u001b[0m\u001b[0;34m\u001b[0m\u001b[0m\n\u001b[1;32m    298\u001b[0m     \u001b[0my_true\u001b[0m \u001b[0;34m=\u001b[0m \u001b[0mcolumn_or_1d\u001b[0m\u001b[0;34m(\u001b[0m\u001b[0my_true\u001b[0m\u001b[0;34m)\u001b[0m\u001b[0;34m\u001b[0m\u001b[0m\n\u001b[0;32m--> 299\u001b[0;31m     \u001b[0my_score\u001b[0m \u001b[0;34m=\u001b[0m \u001b[0mcolumn_or_1d\u001b[0m\u001b[0;34m(\u001b[0m\u001b[0my_score\u001b[0m\u001b[0;34m)\u001b[0m\u001b[0;34m\u001b[0m\u001b[0m\n\u001b[0m\u001b[1;32m    300\u001b[0m     \u001b[0massert_all_finite\u001b[0m\u001b[0;34m(\u001b[0m\u001b[0my_true\u001b[0m\u001b[0;34m)\u001b[0m\u001b[0;34m\u001b[0m\u001b[0m\n\u001b[1;32m    301\u001b[0m     \u001b[0massert_all_finite\u001b[0m\u001b[0;34m(\u001b[0m\u001b[0my_score\u001b[0m\u001b[0;34m)\u001b[0m\u001b[0;34m\u001b[0m\u001b[0m\n",
      "\u001b[0;32m/Users/sanghyub/anaconda/lib/python3.6/site-packages/sklearn/utils/validation.py\u001b[0m in \u001b[0;36mcolumn_or_1d\u001b[0;34m(y, warn)\u001b[0m\n\u001b[1;32m    560\u001b[0m         \u001b[0;32mreturn\u001b[0m \u001b[0mnp\u001b[0m\u001b[0;34m.\u001b[0m\u001b[0mravel\u001b[0m\u001b[0;34m(\u001b[0m\u001b[0my\u001b[0m\u001b[0;34m)\u001b[0m\u001b[0;34m\u001b[0m\u001b[0m\n\u001b[1;32m    561\u001b[0m \u001b[0;34m\u001b[0m\u001b[0m\n\u001b[0;32m--> 562\u001b[0;31m     \u001b[0;32mraise\u001b[0m \u001b[0mValueError\u001b[0m\u001b[0;34m(\u001b[0m\u001b[0;34m\"bad input shape {0}\"\u001b[0m\u001b[0;34m.\u001b[0m\u001b[0mformat\u001b[0m\u001b[0;34m(\u001b[0m\u001b[0mshape\u001b[0m\u001b[0;34m)\u001b[0m\u001b[0;34m)\u001b[0m\u001b[0;34m\u001b[0m\u001b[0m\n\u001b[0m\u001b[1;32m    563\u001b[0m \u001b[0;34m\u001b[0m\u001b[0m\n\u001b[1;32m    564\u001b[0m \u001b[0;34m\u001b[0m\u001b[0m\n",
      "\u001b[0;31mValueError\u001b[0m: bad input shape (2197291, 2)"
     ]
    }
   ],
   "source": [
    "# Determine the false positive and true positive rates\n",
    "fpr, tpr, _ = roc_curve(y, model_tree.predict_proba(X)[:,1])\n",
    " \n",
    "# Calculate the AUC\n",
    "roc_auc = auc(fpr, tpr)\n",
    "print ('ROC AUC: %0.2f' % roc_auc)\n",
    " \n",
    "# Plot of a ROC curve for a specific class\n",
    "plt.figure()\n",
    "plt.plot(fpr, tpr, label='ROC curve (area = %0.2f)' % roc_auc)\n",
    "plt.plot([0, 1], [0, 1], 'k--')\n",
    "plt.xlim([0.0, 1.0])\n",
    "plt.ylim([0.0, 1.05])\n",
    "plt.xlabel('False Positive Rate')\n",
    "plt.ylabel('True Positive Rate')\n",
    "plt.title('ROC Curve')\n",
    "plt.legend(loc=\"lower right\")\n",
    "plt.show()"
   ]
  },
  {
   "cell_type": "code",
   "execution_count": null,
   "metadata": {
    "collapsed": true
   },
   "outputs": [],
   "source": []
  },
  {
   "cell_type": "code",
   "execution_count": null,
   "metadata": {
    "collapsed": true
   },
   "outputs": [],
   "source": []
  },
  {
   "cell_type": "code",
   "execution_count": null,
   "metadata": {
    "collapsed": true
   },
   "outputs": [],
   "source": []
  },
  {
   "cell_type": "code",
   "execution_count": null,
   "metadata": {
    "collapsed": true
   },
   "outputs": [],
   "source": []
  },
  {
   "cell_type": "code",
   "execution_count": null,
   "metadata": {
    "collapsed": true
   },
   "outputs": [],
   "source": []
  },
  {
   "cell_type": "markdown",
   "metadata": {},
   "source": [
    "## K-means"
   ]
  },
  {
   "cell_type": "code",
   "execution_count": 194,
   "metadata": {
    "collapsed": true
   },
   "outputs": [],
   "source": [
    "from sklearn.cluster import KMeans\n",
    "dfX = people.copy()"
   ]
  },
  {
   "cell_type": "code",
   "execution_count": 195,
   "metadata": {
    "collapsed": true
   },
   "outputs": [],
   "source": [
    "for idx in dfX.columns:\n",
    "    dfX[idx] = dfX[idx].fillna('type 0')\n",
    "    dfX[idx] = LabelEncoder().fit_transform(dfX[idx])"
   ]
  },
  {
   "cell_type": "code",
   "execution_count": 111,
   "metadata": {
    "scrolled": true
   },
   "outputs": [
    {
     "data": {
      "text/plain": [
       "group_1\n",
       "group 1         1\n",
       "group 10        1\n",
       "group 100       3\n",
       "group 1000     51\n",
       "group 10001     1\n",
       "group 10002     1\n",
       "group 10003     1\n",
       "group 10004     8\n",
       "group 10005     1\n",
       "group 10006     1\n",
       "group 10008    12\n",
       "group 1001     56\n",
       "group 10011     1\n",
       "group 10012     6\n",
       "group 10013     1\n",
       "group 10016     1\n",
       "group 10018     1\n",
       "group 10019     2\n",
       "group 1002      1\n",
       "group 10020     1\n",
       "group 10021     1\n",
       "group 10022     1\n",
       "group 10023     1\n",
       "group 10025    62\n",
       "group 1003      4\n",
       "group 10030     1\n",
       "group 10032     4\n",
       "group 10033     1\n",
       "group 10036     1\n",
       "group 10037     1\n",
       "               ..\n",
       "group 9961      1\n",
       "group 9962      3\n",
       "group 9963      3\n",
       "group 9964      1\n",
       "group 9965      1\n",
       "group 9967      1\n",
       "group 9968      4\n",
       "group 9969      2\n",
       "group 997      18\n",
       "group 9970     10\n",
       "group 9973      2\n",
       "group 9974      4\n",
       "group 9976      1\n",
       "group 9977      7\n",
       "group 9978      2\n",
       "group 998       2\n",
       "group 9980      5\n",
       "group 9981      1\n",
       "group 9982      1\n",
       "group 9984      2\n",
       "group 9985      4\n",
       "group 9986      1\n",
       "group 9987      1\n",
       "group 9988      1\n",
       "group 999       9\n",
       "group 9993      3\n",
       "group 9995      1\n",
       "group 9996     96\n",
       "group 9998      5\n",
       "group 9999      3\n",
       "Name: people_id, Length: 34224, dtype: int64"
      ]
     },
     "execution_count": 111,
     "metadata": {},
     "output_type": "execute_result"
    }
   ],
   "source": [
    "people.groupby('group_1')['people_id'].count()"
   ]
  },
  {
   "cell_type": "code",
   "execution_count": 196,
   "metadata": {},
   "outputs": [
    {
     "name": "stdout",
     "output_type": "stream",
     "text": [
      "100 -1.56993300627e+12\n",
      "101 -1.60538375643e+12\n",
      "102 -1.57720156582e+12\n",
      "103 -1.61791004237e+12\n",
      "104 -1.57511934685e+12\n",
      "105 -1.51589342419e+12\n"
     ]
    },
    {
     "ename": "KeyboardInterrupt",
     "evalue": "",
     "output_type": "error",
     "traceback": [
      "\u001b[0;31m---------------------------------------------------------------------------\u001b[0m",
      "\u001b[0;31mKeyboardInterrupt\u001b[0m                         Traceback (most recent call last)",
      "\u001b[0;32m<ipython-input-196-e35219b1a72c>\u001b[0m in \u001b[0;36m<module>\u001b[0;34m()\u001b[0m\n\u001b[1;32m      1\u001b[0m \u001b[0;32mfor\u001b[0m \u001b[0mnum\u001b[0m \u001b[0;32min\u001b[0m \u001b[0mrange\u001b[0m\u001b[0;34m(\u001b[0m\u001b[0;36m100\u001b[0m\u001b[0;34m,\u001b[0m\u001b[0;36m251\u001b[0m\u001b[0;34m)\u001b[0m\u001b[0;34m:\u001b[0m\u001b[0;34m\u001b[0m\u001b[0m\n\u001b[0;32m----> 2\u001b[0;31m     \u001b[0mkmModel\u001b[0m \u001b[0;34m=\u001b[0m \u001b[0mKMeans\u001b[0m\u001b[0;34m(\u001b[0m\u001b[0mn_clusters\u001b[0m\u001b[0;34m=\u001b[0m\u001b[0mnum\u001b[0m\u001b[0;34m,\u001b[0m \u001b[0minit\u001b[0m\u001b[0;34m=\u001b[0m\u001b[0;34m'random'\u001b[0m\u001b[0;34m,\u001b[0m\u001b[0mn_init\u001b[0m\u001b[0;34m=\u001b[0m\u001b[0;36m5\u001b[0m\u001b[0;34m,\u001b[0m \u001b[0mmax_iter\u001b[0m\u001b[0;34m=\u001b[0m\u001b[0;36m10\u001b[0m\u001b[0;34m)\u001b[0m\u001b[0;34m.\u001b[0m\u001b[0mfit\u001b[0m\u001b[0;34m(\u001b[0m\u001b[0mdfX\u001b[0m\u001b[0;34m)\u001b[0m\u001b[0;34m\u001b[0m\u001b[0m\n\u001b[0m\u001b[1;32m      3\u001b[0m     \u001b[0mprint\u001b[0m \u001b[0;34m(\u001b[0m\u001b[0mnum\u001b[0m\u001b[0;34m,\u001b[0m \u001b[0mkmModel\u001b[0m\u001b[0;34m.\u001b[0m\u001b[0mscore\u001b[0m\u001b[0;34m(\u001b[0m\u001b[0mdfX\u001b[0m\u001b[0;34m)\u001b[0m\u001b[0;34m)\u001b[0m\u001b[0;34m\u001b[0m\u001b[0m\n",
      "\u001b[0;32m/Users/sanghyub/anaconda/lib/python3.6/site-packages/sklearn/cluster/k_means_.py\u001b[0m in \u001b[0;36mfit\u001b[0;34m(self, X, y)\u001b[0m\n\u001b[1;32m    887\u001b[0m                 \u001b[0mtol\u001b[0m\u001b[0;34m=\u001b[0m\u001b[0mself\u001b[0m\u001b[0;34m.\u001b[0m\u001b[0mtol\u001b[0m\u001b[0;34m,\u001b[0m \u001b[0mrandom_state\u001b[0m\u001b[0;34m=\u001b[0m\u001b[0mrandom_state\u001b[0m\u001b[0;34m,\u001b[0m \u001b[0mcopy_x\u001b[0m\u001b[0;34m=\u001b[0m\u001b[0mself\u001b[0m\u001b[0;34m.\u001b[0m\u001b[0mcopy_x\u001b[0m\u001b[0;34m,\u001b[0m\u001b[0;34m\u001b[0m\u001b[0m\n\u001b[1;32m    888\u001b[0m                 \u001b[0mn_jobs\u001b[0m\u001b[0;34m=\u001b[0m\u001b[0mself\u001b[0m\u001b[0;34m.\u001b[0m\u001b[0mn_jobs\u001b[0m\u001b[0;34m,\u001b[0m \u001b[0malgorithm\u001b[0m\u001b[0;34m=\u001b[0m\u001b[0mself\u001b[0m\u001b[0;34m.\u001b[0m\u001b[0malgorithm\u001b[0m\u001b[0;34m,\u001b[0m\u001b[0;34m\u001b[0m\u001b[0m\n\u001b[0;32m--> 889\u001b[0;31m                 return_n_iter=True)\n\u001b[0m\u001b[1;32m    890\u001b[0m         \u001b[0;32mreturn\u001b[0m \u001b[0mself\u001b[0m\u001b[0;34m\u001b[0m\u001b[0m\n\u001b[1;32m    891\u001b[0m \u001b[0;34m\u001b[0m\u001b[0m\n",
      "\u001b[0;32m/Users/sanghyub/anaconda/lib/python3.6/site-packages/sklearn/cluster/k_means_.py\u001b[0m in \u001b[0;36mk_means\u001b[0;34m(X, n_clusters, init, precompute_distances, n_init, max_iter, verbose, tol, random_state, copy_x, n_jobs, algorithm, return_n_iter)\u001b[0m\n\u001b[1;32m    343\u001b[0m                 \u001b[0mX\u001b[0m\u001b[0;34m,\u001b[0m \u001b[0mn_clusters\u001b[0m\u001b[0;34m,\u001b[0m \u001b[0mmax_iter\u001b[0m\u001b[0;34m=\u001b[0m\u001b[0mmax_iter\u001b[0m\u001b[0;34m,\u001b[0m \u001b[0minit\u001b[0m\u001b[0;34m=\u001b[0m\u001b[0minit\u001b[0m\u001b[0;34m,\u001b[0m \u001b[0mverbose\u001b[0m\u001b[0;34m=\u001b[0m\u001b[0mverbose\u001b[0m\u001b[0;34m,\u001b[0m\u001b[0;34m\u001b[0m\u001b[0m\n\u001b[1;32m    344\u001b[0m                 \u001b[0mprecompute_distances\u001b[0m\u001b[0;34m=\u001b[0m\u001b[0mprecompute_distances\u001b[0m\u001b[0;34m,\u001b[0m \u001b[0mtol\u001b[0m\u001b[0;34m=\u001b[0m\u001b[0mtol\u001b[0m\u001b[0;34m,\u001b[0m\u001b[0;34m\u001b[0m\u001b[0m\n\u001b[0;32m--> 345\u001b[0;31m                 x_squared_norms=x_squared_norms, random_state=random_state)\n\u001b[0m\u001b[1;32m    346\u001b[0m             \u001b[0;31m# determine if these results are the best so far\u001b[0m\u001b[0;34m\u001b[0m\u001b[0;34m\u001b[0m\u001b[0m\n\u001b[1;32m    347\u001b[0m             \u001b[0;32mif\u001b[0m \u001b[0mbest_inertia\u001b[0m \u001b[0;32mis\u001b[0m \u001b[0;32mNone\u001b[0m \u001b[0;32mor\u001b[0m \u001b[0minertia\u001b[0m \u001b[0;34m<\u001b[0m \u001b[0mbest_inertia\u001b[0m\u001b[0;34m:\u001b[0m\u001b[0;34m\u001b[0m\u001b[0m\n",
      "\u001b[0;32m/Users/sanghyub/anaconda/lib/python3.6/site-packages/sklearn/cluster/k_means_.py\u001b[0m in \u001b[0;36m_kmeans_single_elkan\u001b[0;34m(X, n_clusters, max_iter, init, verbose, x_squared_norms, random_state, tol, precompute_distances)\u001b[0m\n\u001b[1;32m    397\u001b[0m         \u001b[0mprint\u001b[0m\u001b[0;34m(\u001b[0m\u001b[0;34m'Initialization complete'\u001b[0m\u001b[0;34m)\u001b[0m\u001b[0;34m\u001b[0m\u001b[0m\n\u001b[1;32m    398\u001b[0m     centers, labels, n_iter = k_means_elkan(X, n_clusters, centers, tol=tol,\n\u001b[0;32m--> 399\u001b[0;31m                                             max_iter=max_iter, verbose=verbose)\n\u001b[0m\u001b[1;32m    400\u001b[0m     \u001b[0minertia\u001b[0m \u001b[0;34m=\u001b[0m \u001b[0mnp\u001b[0m\u001b[0;34m.\u001b[0m\u001b[0msum\u001b[0m\u001b[0;34m(\u001b[0m\u001b[0;34m(\u001b[0m\u001b[0mX\u001b[0m \u001b[0;34m-\u001b[0m \u001b[0mcenters\u001b[0m\u001b[0;34m[\u001b[0m\u001b[0mlabels\u001b[0m\u001b[0;34m]\u001b[0m\u001b[0;34m)\u001b[0m \u001b[0;34m**\u001b[0m \u001b[0;36m2\u001b[0m\u001b[0;34m,\u001b[0m \u001b[0mdtype\u001b[0m\u001b[0;34m=\u001b[0m\u001b[0mnp\u001b[0m\u001b[0;34m.\u001b[0m\u001b[0mfloat64\u001b[0m\u001b[0;34m)\u001b[0m\u001b[0;34m\u001b[0m\u001b[0m\n\u001b[1;32m    401\u001b[0m     \u001b[0;32mreturn\u001b[0m \u001b[0mlabels\u001b[0m\u001b[0;34m,\u001b[0m \u001b[0minertia\u001b[0m\u001b[0;34m,\u001b[0m \u001b[0mcenters\u001b[0m\u001b[0;34m,\u001b[0m \u001b[0mn_iter\u001b[0m\u001b[0;34m\u001b[0m\u001b[0m\n",
      "\u001b[0;32msklearn/cluster/_k_means_elkan.pyx\u001b[0m in \u001b[0;36msklearn.cluster._k_means_elkan.k_means_elkan (sklearn/cluster/_k_means_elkan.c:7470)\u001b[0;34m()\u001b[0m\n",
      "\u001b[0;32m/Users/sanghyub/anaconda/lib/python3.6/site-packages/sklearn/metrics/pairwise.py\u001b[0m in \u001b[0;36meuclidean_distances\u001b[0;34m(X, Y, Y_norm_squared, squared, X_norm_squared)\u001b[0m\n\u001b[1;32m    160\u001b[0m \u001b[0;34m\u001b[0m\u001b[0m\n\u001b[1;32m    161\u001b[0m \u001b[0;31m# Pairwise distances\u001b[0m\u001b[0;34m\u001b[0m\u001b[0;34m\u001b[0m\u001b[0m\n\u001b[0;32m--> 162\u001b[0;31m def euclidean_distances(X, Y=None, Y_norm_squared=None, squared=False,\n\u001b[0m\u001b[1;32m    163\u001b[0m                         X_norm_squared=None):\n\u001b[1;32m    164\u001b[0m     \"\"\"\n",
      "\u001b[0;31mKeyboardInterrupt\u001b[0m: "
     ]
    }
   ],
   "source": [
    "for num in range(100,251):\n",
    "    kmModel = KMeans(n_clusters=num, init='random',n_init=5, max_iter=10).fit(dfX)\n",
    "    print (num, kmModel.score(dfX))"
   ]
  },
  {
   "cell_type": "code",
   "execution_count": null,
   "metadata": {
    "collapsed": true
   },
   "outputs": [],
   "source": [
    "kmModle.score(dfX)"
   ]
  },
  {
   "cell_type": "code",
   "execution_count": 85,
   "metadata": {
    "collapsed": true
   },
   "outputs": [
    {
     "data": {
      "text/plain": [
       "date\n",
       "2022-07-17    1240\n",
       "2022-07-18     718\n",
       "2022-07-19    3734\n",
       "2022-07-20    5360\n",
       "2022-07-21    4611\n",
       "2022-07-22    4627\n",
       "2022-07-23    3826\n",
       "2022-07-24     711\n",
       "2022-07-25     656\n",
       "2022-07-26    4374\n",
       "2022-07-27    5730\n",
       "2022-07-28    4430\n",
       "2022-07-29    5316\n",
       "2022-07-30    3497\n",
       "2022-07-31     726\n",
       "2022-08-01     722\n",
       "2022-08-02    3608\n",
       "2022-08-03    4741\n",
       "2022-08-04    5854\n",
       "2022-08-05    5751\n",
       "2022-08-06    4193\n",
       "2022-08-07     752\n",
       "2022-08-08     772\n",
       "2022-08-09    4346\n",
       "2022-08-10    6660\n",
       "2022-08-11    4810\n",
       "2022-08-12    3818\n",
       "2022-08-13    4971\n",
       "2022-08-14     697\n",
       "2022-08-15     233\n",
       "              ... \n",
       "2023-08-02    3493\n",
       "2023-08-03    6700\n",
       "2023-08-04    8824\n",
       "2023-08-05    4521\n",
       "2023-08-06    1421\n",
       "2023-08-07     556\n",
       "2023-08-08    4205\n",
       "2023-08-09    5150\n",
       "2023-08-10    4008\n",
       "2023-08-11    4326\n",
       "2023-08-12    3987\n",
       "2023-08-13     956\n",
       "2023-08-14     660\n",
       "2023-08-15    3078\n",
       "2023-08-16    6870\n",
       "2023-08-17    5696\n",
       "2023-08-18    3385\n",
       "2023-08-19      58\n",
       "2023-08-20       9\n",
       "2023-08-21      18\n",
       "2023-08-22    5186\n",
       "2023-08-23    4259\n",
       "2023-08-24    4202\n",
       "2023-08-25    5583\n",
       "2023-08-26    4555\n",
       "2023-08-27     633\n",
       "2023-08-28     565\n",
       "2023-08-29    3463\n",
       "2023-08-30    4792\n",
       "2023-08-31     403\n",
       "Name: activity_id, Length: 411, dtype: int64"
      ]
     },
     "execution_count": 85,
     "metadata": {},
     "output_type": "execute_result"
    }
   ],
   "source": [
    "act_Train.groupby('date')['activity_id'].count()"
   ]
  }
 ],
 "metadata": {
  "kernelspec": {
   "display_name": "Python 3",
   "language": "python",
   "name": "python3"
  },
  "language_info": {
   "codemirror_mode": {
    "name": "ipython",
    "version": 3
   },
   "file_extension": ".py",
   "mimetype": "text/x-python",
   "name": "python",
   "nbconvert_exporter": "python",
   "pygments_lexer": "ipython3",
   "version": "3.6.3"
  }
 },
 "nbformat": 4,
 "nbformat_minor": 2
}
